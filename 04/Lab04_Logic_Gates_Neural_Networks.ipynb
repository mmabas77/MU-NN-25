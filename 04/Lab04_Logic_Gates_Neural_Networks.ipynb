{
 "cells": [
  {
   "cell_type": "markdown",
   "metadata": {
    "id": "A9uihVNiQn73"
   },
   "source": [
    "# Setup"
   ]
  },
  {
   "cell_type": "code",
   "execution_count": null,
   "metadata": {
    "id": "o76DP8wsQn77"
   },
   "outputs": [],
   "source": [
    "import numpy as np\n",
    "import tensorflow as tf\n",
    "import matplotlib.pyplot as plt\n",
    "import itertools as it\n",
    "\n",
    "%matplotlib inline"
   ]
  },
  {
   "cell_type": "markdown",
   "metadata": {
    "id": "Y4erwJ19Qn7-"
   },
   "source": [
    "# Neurons as Logic Gates"
   ]
  },
  {
   "cell_type": "markdown",
   "metadata": {
    "id": "plaVejTnQn7_"
   },
   "source": [
    "As an introduction to neural networks and their component neurons, we are going to look at using neurons to implement the most primitive logic computations:  logic gates.  Let's go!"
   ]
  },
  {
   "cell_type": "markdown",
   "metadata": {
    "id": "ocxQcNDzQn7_"
   },
   "source": [
    "##### The Sigmoid Function\n",
    "\n",
    "The basic, classic activation function that we apply to neurons is a  sigmoid (sometimes just called *the* sigmoid function) function:  the standard logistic function.\n",
    "\n",
    "$$\n",
    "\\sigma = \\frac{1}{1 + e^{-x}}\n",
    "$$\n",
    "\n",
    "$\\sigma$ ranges from (0, 1). When the input $x$ is negative, $\\sigma$ is close to 0. When $x$ is positive, $\\sigma$ is close to 1. At $x=0$, $\\sigma=0.5$\n",
    "\n",
    "We can implement this conveniently with NumPy."
   ]
  },
  {
   "cell_type": "code",
   "execution_count": null,
   "metadata": {
    "id": "BQNd_84kQn8A"
   },
   "outputs": [],
   "source": [
    "def sigmoid(x):\n",
    "    \"\"\"Sigmoid function\"\"\"\n",
    "    return 1.0 / (1.0 + np.exp(-x))"
   ]
  },
  {
   "cell_type": "markdown",
   "metadata": {
    "id": "J63is0bpQn8B"
   },
   "source": [
    "And plot it with matplotlib."
   ]
  },
  {
   "cell_type": "code",
   "execution_count": null,
   "metadata": {
    "colab": {
     "base_uri": "https://localhost:8080/",
     "height": 385
    },
    "id": "7gcLv1dcQn8B",
    "outputId": "7ba35cfb-c247-4bca-a8da-d70908f126b2"
   },
   "outputs": [
    {
     "data": {
      "text/plain": [
       "(-0.1, 1.15)"
      ]
     },
     "execution_count": 3,
     "metadata": {},
     "output_type": "execute_result"
    },
    {
     "data": {
      "image/png": "[encoded data removed]",
      "text/plain": [
       "<Figure size 600x400 with 1 Axes>"
      ]
     },
     "metadata": {},
     "output_type": "display_data"
    }
   ],
   "source": [
    "# Plot The sigmoid function\n",
    "xs = np.linspace(-10, 10, num=100, dtype=np.float32)\n",
    "activation = sigmoid(xs)\n",
    "\n",
    "fig = plt.figure(figsize=(6,4))\n",
    "plt.plot(xs, activation)\n",
    "plt.plot(0,.5,'ro')\n",
    "\n",
    "plt.grid(True, which='both')\n",
    "plt.axhline(y=0, color='y')\n",
    "plt.axvline(x=0, color='y')\n",
    "plt.ylim([-0.1, 1.15])"
   ]
  },
  {
   "cell_type": "markdown",
   "metadata": {
    "id": "eBf0C3JdQn8C"
   },
   "source": [
    "## An Example with OR"
   ]
  },
  {
   "cell_type": "markdown",
   "metadata": {
    "id": "PjWqK41AQn8C"
   },
   "source": [
    "##### OR Logic\n",
    "A logic gate takes in two boolean (true/false or 1/0) inputs, and returns either a 0 or 1 depending on its rule. The truth table for a logic gate shows the outputs for each combination of inputs: (0, 0), (0, 1), (1,0), and (1, 1). For example, let's look at the truth table for an Or-gate:\n",
    "\n",
    "<table>\n",
    "<tr><th colspan=\"3\">OR gate truth table</th></tr>\n",
    "<tr><th colspan=\"2\">Input</th><th>Output</th></tr>\n",
    "<tr><td>0</td><td>0</td><td>0</td></tr>\n",
    "<tr><td>0</td><td>1</td><td>1</td></tr>\n",
    "<tr><td>1</td><td>0</td><td>1</td></tr>\n",
    "<tr><td>1</td><td>1</td><td>1</td></tr>\n",
    "</table>"
   ]
  },
  {
   "cell_type": "markdown",
   "metadata": {
    "id": "YSx82PbQQn8C"
   },
   "source": [
    "##### OR as a Neuron\n",
    "\n",
    "A neuron that uses the sigmoid activation function outputs a value between (0, 1). This naturally leads us to think about boolean values. Imagine a neuron that takes in two inputs, $x_1$ and $x_2$, and a bias term:\n",
    "\n",
    "   <img src=\"./img/img_1.png\" width=50% />\n",
    "\n",
    "By limiting the inputs of $x_1$ and $x_2$ to be in $\\left\\{0, 1\\right\\}$, we can simulate the effect of logic gates with our neuron. The goal is to find the weights (represented by ? marks above), such that it returns an output close to 0 or 1 depending on the inputs.  What weights should we use to output the same results as OR? Remember: $\\sigma(z)$ is close to 0 when $z$ is largely negative (around -10 or less), and is close to 1 when $z$ is largely positive (around +10 or greater).\n",
    "\n",
    "$$\n",
    "z = w_1 x_1 + w_2 x_2 + b\n",
    "$$\n",
    "\n",
    "Let's think this through:\n",
    "\n",
    "* When $x_1$ and $x_2$ are both 0, the only value affecting $z$ is $b$. Because we want the result for input (0, 0) to be close to zero, $b$ should be negative (at least -10) to get the very left-hand part of the sigmoid.\n",
    "* If either $x_1$ or $x_2$ is 1, we want the output to be close to 1. That means the weights associated with $x_1$ and $x_2$ should be enough to offset $b$ to the point of causing $z$ to be at least 10 (i.e., to the far right part of the sigmoid).\n",
    "\n",
    "Let's give $b$ a value of -10. How big do we need $w_1$ and $w_2$ to be?  At least +20 will get us to +10 for just one of $\\{w_1, w_2\\}$ being on.\n",
    "\n",
    "So let's try out $w_1=20$, $w_2=20$, and $b=-10$:\n",
    "\n",
    " <img src=\"./img/img_2.png\" width=50% />\n"
   ]
  },
  {
   "cell_type": "markdown",
   "metadata": {
    "id": "g054XD4eQn8D"
   },
   "source": [
    "##### Some Utility Functions\n",
    "Since we're going to be making several example logic gates (from different sets of weights and biases), here are two helpers.  The first takes our weights and baises and turns them into a two-argument function that we can use like `and(a,b)`.  The second is for printing a truth table for a gate."
   ]
  },
  {
   "cell_type": "code",
   "execution_count": null,
   "metadata": {
    "id": "Wleq8ry3zEAV"
   },
   "outputs": [],
   "source": [
    "# Logic gate function\n",
    "def logic_gate(w1, w2, b, x1, x2):\n",
    "  ''' logic_gate is a function which returns the results of\n",
    "        taking two args and  (hopefully) acts like a logic gate (and/or/not/etc.).\n",
    "        its behavior is determined by w1,w2,b. '''\n",
    "  return sigmoid(w1 * x1 + w2 * x2 + b)\n"
   ]
  },
  {
   "cell_type": "code",
   "execution_count": null,
   "metadata": {
    "id": "lhpF7mgMQn8D"
   },
   "outputs": [],
   "source": [
    "# Test function that takes a function with two arguments\n",
    "def test_gate(w1, w2, b):\n",
    "  for x1 in range(2):\n",
    "    for x2 in range(2):\n",
    "      print(\"{}, {}: {}\".format(x1, x2, np.round(logic_gate(w1, w2, b, x1, x2))))"
   ]
  },
  {
   "cell_type": "markdown",
   "metadata": {
    "id": "xJxJ1-q6Qn8D"
   },
   "source": [
    "Let's see how we did.  Here's the gold-standard truth table.\n",
    "\n",
    "<table>\n",
    "<tr><th colspan=\"3\">OR gate truth table</th></tr>\n",
    "<tr><th colspan=\"2\">Input</th><th>Output</th></tr>\n",
    "<tr><td>0</td><td>0</td><td>0</td></tr>\n",
    "<tr><td>0</td><td>1</td><td>1</td></tr>\n",
    "<tr><td>1</td><td>0</td><td>1</td></tr>\n",
    "<tr><td>1</td><td>1</td><td>1</td></tr>\n",
    "</table>\n",
    "\n",
    "And our result:"
   ]
  },
  {
   "cell_type": "code",
   "execution_count": null,
   "metadata": {
    "colab": {
     "base_uri": "https://localhost:8080/"
    },
    "id": "0gVu1GrK1-EN",
    "outputId": "e32b6084-775a-4332-e6be-561b39f205dc"
   },
   "outputs": [
    {
     "name": "stdout",
     "output_type": "stream",
     "text": [
      "0, 0: 0.0\n",
      "0, 1: 1.0\n",
      "1, 0: 1.0\n",
      "1, 1: 1.0\n"
     ]
    }
   ],
   "source": [
    "or_gate = test_gate(20, 20, -10)"
   ]
  },
  {
   "cell_type": "markdown",
   "metadata": {
    "id": "qci7rZBQQn8D"
   },
   "source": [
    "This matches - great!"
   ]
  },
  {
   "cell_type": "markdown",
   "metadata": {
    "id": "3Ycn5zQTQn8E"
   },
   "source": [
    "# Exercise 1"
   ]
  },
  {
   "cell_type": "markdown",
   "metadata": {
    "id": "hWh053OQQn8E"
   },
   "source": [
    "##### Part 1:  AND Gate\n",
    "\n",
    "Now you try finding the appropriate weight values for each truth table. Try not to guess and check. Think through it logically and try to derive values that work.\n",
    "\n",
    "<table>\n",
    "<tr><th colspan=\"3\">AND gate truth table</th></tr>\n",
    "<tr><th colspan=\"2\">Input</th><th>Output</th></tr>\n",
    "<tr><td>0</td><td>0</td><td>0</td></tr>\n",
    "<tr><td>0</td><td>1</td><td>0</td></tr>\n",
    "<tr><td>1</td><td>0</td><td>0</td></tr>\n",
    "<tr><td>1</td><td>1</td><td>1</td></tr>\n",
    "</table>"
   ]
  },
  {
   "cell_type": "code",
   "execution_count": null,
   "metadata": {
    "id": "7ARyNpeqQn8E"
   },
   "outputs": [],
   "source": [
    "# Fill in the w1, w2, and b parameters such that the truth table matches\n",
    "# and_gate = test_gate(...)"
   ]
  },
  {
   "cell_type": "markdown",
   "metadata": {
    "id": "MJ_MIZqVQn8E"
   },
   "source": [
    "##### Part 2: NOR (Not Or) Gate\n",
    "<table>\n",
    "<tr><th colspan=\"3\">NOR gate truth table</th></tr>\n",
    "<tr><th colspan=\"2\">Input</th><th>Output</th></tr>\n",
    "<tr><td>0</td><td>0</td><td>1</td></tr>\n",
    "<tr><td>0</td><td>1</td><td>0</td></tr>\n",
    "<tr><td>1</td><td>0</td><td>0</td></tr>\n",
    "<tr><td>1</td><td>1</td><td>0</td></tr>\n",
    "</table>\n",
    "<table>"
   ]
  },
  {
   "cell_type": "code",
   "execution_count": null,
   "metadata": {
    "id": "V4Bir8bdQn8F"
   },
   "outputs": [],
   "source": [
    "# Fill in the w1, w2, and b parameters such that the truth table matches\n",
    "# nor_gate = test_gate(...)"
   ]
  },
  {
   "cell_type": "markdown",
   "metadata": {
    "id": "kouMg6SiQn8F"
   },
   "source": [
    "##### Part 3: NAND (Not And) Gate\n",
    "<table>\n",
    "<tr><th colspan=\"3\">NAND gate truth table</th></tr>\n",
    "<tr><th colspan=\"2\">Input</th><th>Output</th></tr>\n",
    "<tr><td>0</td><td>0</td><td>1</td></tr>\n",
    "<tr><td>0</td><td>1</td><td>1</td></tr>\n",
    "<tr><td>1</td><td>0</td><td>1</td></tr>\n",
    "<tr><td>1</td><td>1</td><td>0</td></tr>\n",
    "</table>"
   ]
  },
  {
   "cell_type": "code",
   "execution_count": null,
   "metadata": {
    "id": "rRC94EkhQn8F"
   },
   "outputs": [],
   "source": [
    "# Fill in the w1, w2, and b parameters such that the truth table matches\n",
    "# nand_gate = test_gate(...)"
   ]
  },
  {
   "cell_type": "markdown",
   "metadata": {
    "id": "_I029hJsQn8F"
   },
   "source": [
    "## Solutions 1"
   ]
  },
  {
   "cell_type": "code",
   "execution_count": null,
   "metadata": {
    "id": "3tm-zb34Qn8F"
   },
   "outputs": [],
   "source": []
  },
  {
   "cell_type": "markdown",
   "metadata": {
    "id": "UEeKlwb7Qn8G"
   },
   "source": [
    "# Learning a Logic Gate"
   ]
  },
  {
   "cell_type": "markdown",
   "metadata": {
    "id": "ROzXwgizQn8G"
   },
   "source": [
    "We can use TensorFlow to try and teach a model to learn the correct weights and bias by passing in our truth table as training data."
   ]
  },
  {
   "cell_type": "code",
   "execution_count": null,
   "metadata": {
    "id": "IgSRfaq-6ryc"
   },
   "outputs": [],
   "source": [
    "# Define LogicGate Model using tf.Module\n",
    "class LogicGate(tf.Module):\n",
    "    def __init__(self):\n",
    "        super().__init__()\n",
    "        self.built = False  # Track if model is initialized\n",
    "\n",
    "    def __call__(self, x, train=True):\n",
    "        # Initialize weights and bias on first call\n",
    "        if not self.built:\n",
    "            input_dim = x.shape[-1]  # Number of input features\n",
    "            self.w = tf.Variable(tf.random.normal([input_dim, 1]), name=\"weights\")\n",
    "            self.b = tf.Variable(tf.zeros([1]), name=\"bias\")\n",
    "            self.built = True\n",
    "\n",
    "        # Compute logits: z = Wx + b\n",
    "        z = tf.add(tf.matmul(x, self.w), self.b)\n",
    "        return tf.sigmoid(z)  # Apply sigmoid\n",
    "\n",
    "# Loss function (Mean Squared Error)\n",
    "def compute_loss(y_pred, y_true):\n",
    "    return tf.reduce_mean(tf.square(y_pred - y_true))\n",
    "\n",
    "# Training function\n",
    "def train_model(model, x_train, y_train, learning_rate=0.5, epochs=5000):\n",
    "  # Iterate over the training data\n",
    "  for epoch in range(epochs):\n",
    "    with tf.GradientTape() as tape:\n",
    "      y_pred = model(x_train)  # Forward pass\n",
    "      loss = compute_loss(y_pred, y_train)\n",
    "\n",
    "    # Update the parameters with respect to the gradient calculations\n",
    "    grads = tape.gradient(loss, model.variables)\n",
    "    for g,v in zip(grads, model.variables):\n",
    "      v.assign_sub(learning_rate * g)\n",
    "\n",
    "    # Print progress every 1000 epochs\n",
    "    if epoch % 1000 == 0:\n",
    "      acc = compute_accuracy(model, x_train, y_train)\n",
    "      print(f\"Epoch {epoch}, Loss: {loss.numpy():.4f}, Accuracy: {acc:.4f}\")\n",
    "\n",
    "# Accuracy function\n",
    "def compute_accuracy(model, x, y_true):\n",
    "    y_pred = model(x, train=False)\n",
    "    y_pred_rounded = tf.round(y_pred)\n",
    "    correct = tf.equal(y_pred_rounded, y_true)\n",
    "    return tf.reduce_mean(tf.cast(correct, tf.float32)).numpy()\n"
   ]
  },
  {
   "cell_type": "code",
   "execution_count": null,
   "metadata": {
    "colab": {
     "base_uri": "https://localhost:8080/"
    },
    "id": "zSSTaO3y6w-O",
    "outputId": "e95408fc-e0a1-401f-9cd0-750d5bb55657"
   },
   "outputs": [
    {
     "name": "stdout",
     "output_type": "stream",
     "text": [
      "Epoch 0, Loss: 0.3312, Accuracy: 0.5000\n",
      "Epoch 1000, Loss: 0.0126, Accuracy: 1.0000\n",
      "Epoch 2000, Loss: 0.0058, Accuracy: 1.0000\n",
      "Epoch 3000, Loss: 0.0037, Accuracy: 1.0000\n",
      "Epoch 4000, Loss: 0.0027, Accuracy: 1.0000\n",
      "\n",
      "Learned weight for w1: 5.733343124389648\n",
      "Learned weight for w2: 5.733343124389648\n",
      "Learned bias: -8.691651344299316\n",
      "\n",
      "Predicted Truth Table:\n",
      "[[0. 0. 0.]\n",
      " [1. 0. 0.]\n",
      " [0. 1. 0.]\n",
      " [1. 1. 1.]]\n"
     ]
    }
   ],
   "source": [
    "\n",
    "# Prepare AND gate dataset\n",
    "and_table = np.array([[0, 0, 0],\n",
    "                      [1, 0, 0],\n",
    "                      [0, 1, 0],\n",
    "                      [1, 1, 1]], dtype=np.float32)\n",
    "\n",
    "x_train = and_table[:, :2]  # Inputs: x1, x2\n",
    "y_train = and_table[:, 2:]  # Labels: y\n",
    "\n",
    "# Initialize and train model\n",
    "model = LogicGate()\n",
    "train_model(model, x_train, y_train)\n",
    "\n",
    "# Evaluate and print results\n",
    "w1, w2 = model.w.numpy().flatten()\n",
    "b = model.b.numpy().flatten()[0]\n",
    "print(f\"\\nLearned weight for w1: {w1}\")\n",
    "print(f\"Learned weight for w2: {w2}\")\n",
    "print(f\"Learned bias: {b}\\n\")\n",
    "\n",
    "# Test model predictions\n",
    "y_pred = model(x_train, train=False).numpy().round().astype(np.uint8)\n",
    "print(\"Predicted Truth Table:\")\n",
    "print(np.column_stack((and_table[:, :2], y_pred)))"
   ]
  },
  {
   "cell_type": "markdown",
   "metadata": {
    "id": "tenXRFveQn8F"
   },
   "source": [
    "# Limits of Single Neurons\n",
    "\n",
    "If you've taken computer science courses, you may know that the XOR gates are the basis of computation. They can be used as half-adders, the foundation of being able to add numbers together. Here's the truth table for XOR:\n",
    "\n",
    "##### XOR (Exclusive Or) Gate\n",
    "<table>\n",
    "<tr><th colspan=\"3\">NAND gate truth table</th></tr>\n",
    "<tr><th colspan=\"2\">Input</th><th>Output</th></tr>\n",
    "<tr><td>0</td><td>0</td><td>0</td></tr>\n",
    "<tr><td>0</td><td>1</td><td>1</td></tr>\n",
    "<tr><td>1</td><td>0</td><td>1</td></tr>\n",
    "<tr><td>1</td><td>1</td><td>0</td></tr>\n",
    "</table>\n",
    "\n",
    "Now the question is, can you create a set of weights such that a single neuron can output this property?  It turns out that you cannot. Single neurons can't correlate inputs, so it's just confused. So individual neurons are out. Can we still use neurons to somehow form an XOR gate?\n",
    "\n",
    "What if we tried something more complex:\n",
    "\n",
    " <img src=\"./img/img_3.png\" width=50% />\n",
    "\n",
    "Here, we've got the inputs going to two separate gates: the top neuron is an OR gate, and the bottom is a NAND gate. The output of these gates is passed to another neuron, which is an AND gate. If you work out the outputs at each combination of input values, you'll see that this is an XOR gate!\n",
    "\n",
    "XOR(A,B)=OR(A, B) AND NAND(A,B)."
   ]
  },
  {
   "cell_type": "code",
   "execution_count": null,
   "metadata": {
    "id": "THXGPuqVQn8G"
   },
   "outputs": [],
   "source": [
    "# Make sure you have or_gate, nand_gate, and and_gate working from above\n",
    "#def xor_gate(a, b):\n",
    "#    c = or_gate(a, b)\n",
    "#    d = nand_gate(a, b)\n",
    "#    return and_gate(c, d)\n",
    "#test(xor_gate)"
   ]
  },
  {
   "cell_type": "markdown",
   "metadata": {
    "id": "wmyjlAWXQn8G"
   },
   "source": [
    "Thus, we can see how chaining together neurons can compose more complex models than we'd otherwise have access to."
   ]
  },
  {
   "cell_type": "code",
   "execution_count": null,
   "metadata": {
    "id": "TFVMtbjYQn8J"
   },
   "outputs": [],
   "source": []
  },
  {
   "cell_type": "markdown",
   "metadata": {
    "id": "LawaqclfQn8K"
   },
   "source": [
    "# Exercise 2: Learning an XOR Gate"
   ]
  },
  {
   "cell_type": "markdown",
   "metadata": {
    "id": "QgssswnVQn8K"
   },
   "source": [
    "If we compose a two stage model, we can learn the XOR gate.  You'll notice that defining the model itself is starting to get messy.  We'll talk about ways of dealing with that next week."
   ]
  },
  {
   "cell_type": "markdown",
   "metadata": {
    "id": "1OsUitwgPsVZ"
   },
   "source": [
    "## Solutions 2"
   ]
  },
  {
   "cell_type": "code",
   "execution_count": null,
   "metadata": {
    "id": "83k9qOnDPvev"
   },
   "outputs": [],
   "source": []
  }
 ],
 "metadata": {
  "colab": {
   "collapsed_sections": [
    "C-N5nEiMQDLH"
   ],
   "provenance": []
  },
  "kernelspec": {
   "display_name": "Python 3",
   "language": "python",
   "name": "python3"
  },
  "language_info": {
   "codemirror_mode": {
    "name": "ipython",
    "version": 3
   },
   "file_extension": ".py",
   "mimetype": "text/x-python",
   "name": "python",
   "nbconvert_exporter": "python",
   "pygments_lexer": "ipython3",
   "version": "3.6.3"
  }
 },
 "nbformat": 4,
 "nbformat_minor": 0
}
