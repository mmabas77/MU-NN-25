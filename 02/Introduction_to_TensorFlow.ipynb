{
 "cells": [
  {
   "metadata": {},
   "cell_type": "markdown",
   "source": [
    "## Introduction to TensorFlow 2.x\n",
    "\n",
    "TensorFlow 2.x is an open-source deep learning framework developed by Google that makes it easy to build and train machine learning models. It is widely used for tasks such as image classification, natural language processing (NLP), time series forecasting, and reinforcement learning. With eager execution enabled by default, TensorFlow 2.x provides a more intuitive and Pythonic approach compared to its predecessor, TensorFlow 1.x.\n",
    "\n",
    "### Why TensorFlow 2.x?\n",
    "\n",
    "TensorFlow 2.x introduces several improvements, making deep learning simpler and more efficient:\n",
    "\n",
    "- **Eager Execution**: Executes operations immediately, allowing for easy debugging.\n",
    "- **Keras as the Primary API**: `tf.keras` is now the recommended high-level API for model building.\n",
    "- **End-to-End Machine Learning Workflow**: Supports data preprocessing, model training, evaluation, and deployment.\n",
    "- **Works on Any Hardware**: Compatible with CPU, GPU, TPU, and even mobile devices.\n",
    "- **Distributed Training**: Train across multiple GPUs/TPUs effortlessly.\n",
    "- **Production-Ready**: Deploy models to cloud services, mobile apps, and web apps.\n"
   ],
   "id": "b24a248c94f5b0c7"
  },
  {
   "cell_type": "code",
   "source": [
    "# Use this to load your data from Google Drive\n",
    "# from google.colab import drive\n",
    "# drive.mount('/content/drive')"
   ],
   "metadata": {
    "colab": {
     "base_uri": "https://localhost:8080/"
    },
    "id": "O53d3sgLGYK6",
    "outputId": "f2976af2-9651-421f-d145-1575487410dd"
   },
   "id": "O53d3sgLGYK6",
   "execution_count": null,
   "outputs": [
    {
     "output_type": "stream",
     "name": "stdout",
     "text": [
      "Drive already mounted at /content/drive; to attempt to forcibly remount, call drive.mount(\"/content/drive\", force_remount=True).\n"
     ]
    }
   ]
  },
  {
   "cell_type": "markdown",
   "metadata": {
    "id": "w6knUzhN_rHy"
   },
   "source": [
    "# 🚀 1. Import TensorFlow and Check Version  \n",
    "\n",
    "Let's begin by importing TensorFlow and verifying that we have the desired version. ✅  \n",
    "We'll also do a quick check for GPU availability. 🔍💻  \n"
   ],
   "id": "w6knUzhN_rHy"
  },
  {
   "cell_type": "code",
   "metadata": {
    "colab": {
     "base_uri": "https://localhost:8080/"
    },
    "id": "MyOfFDtA_rH0",
    "outputId": "b6a760c8-5c30-4587-ff3b-9ec44718aeb4"
   },
   "source": [
    "import tensorflow as tf\n",
    "print(\"TensorFlow Version:\", tf.__version__)\n",
    "\n",
    "import numpy as np\n",
    "# Check for GPU\n",
    "print(\"Is GPU available?:\", tf.config.list_physical_devices('GPU'))"
   ],
   "execution_count": null,
   "outputs": [
    {
     "output_type": "stream",
     "name": "stdout",
     "text": [
      "TensorFlow Version: 2.18.0\n",
      "Is GPU available?: []\n"
     ]
    }
   ],
   "id": "MyOfFDtA_rH0"
  },
  {
   "cell_type": "markdown",
   "metadata": {
    "id": "nsS9KO8a_rH1"
   },
   "source": [
    "## 🔹 2. TensorFlow Core API  \n",
    "\n",
    "The **TensorFlow Core API** provides low-level operations and data structures. ⚙️  \n",
    "Working with the Core API helps you understand how tensors, variables, and operations interact under the hood. 🧠  \n",
    "\n",
    "### 🔢 2.1 Data Structures in TensorFlow  \n",
    "\n",
    "- **`tf.Tensor`** 🏗️: Immutable objects that represent n-dimensional arrays.  \n",
    "- **`tf.Variable`** 🔄: Mutable versions of tensors (useful for storing parameters).  \n",
    "- **`tf.TensorArray`** 📦: A dynamically sized array of tensors, often used in complex RNNs.  \n",
    "- **`tf.RaggedTensor`** 📏: Tensors with variable row lengths.  \n",
    "- **`tf.SparseTensor`** 🧩: Tensors for representing sparse data.  \n"
   ],
   "id": "nsS9KO8a_rH1"
  },
  {
   "cell_type": "markdown",
   "metadata": {
    "id": "fhlQwyss_rH2"
   },
   "source": [
    "### ✨ **2.1.1 `tf.Tensor`**  \n",
    "\n",
    "A `tf.Tensor` is the **fundamental data structure** in TensorFlow. 🔢  \n",
    "It represents an **immutable, multi-dimensional array**. 📊  \n",
    "\n",
    "Below is an example of creating a **constant tensor** and exploring its attributes. 🛠️  \n",
    "\n",
    "⚡ **Immutability**:  \n",
    "All tensors are **immutable**, just like Python numbers and strings. 🔒  \n",
    "You **cannot update** the contents of a tensor; you can only create a new one. 🔄  \n"
   ],
   "id": "fhlQwyss_rH2"
  },
  {
   "cell_type": "markdown",
   "metadata": {
    "id": "DRK5-9EpYbzG"
   },
   "source": [
    "## 🎯 Basics  \n",
    "\n",
    "First, let's create some **basic tensors**! 🔢✨  \n"
   ],
   "id": "DRK5-9EpYbzG"
  },
  {
   "cell_type": "markdown",
   "metadata": {
    "id": "uSHRFT6LJbxq"
   },
   "source": [
    "Here is a **scalar** or **rank-0 tensor**. 🎯  \n",
    "\n",
    "A **scalar** contains a **single value** and has **no axes**. ⚡🔢  "
   ],
   "id": "uSHRFT6LJbxq"
  },
  {
   "cell_type": "code",
   "execution_count": null,
   "metadata": {
    "id": "d5JcgLFR6gHv",
    "colab": {
     "base_uri": "https://localhost:8080/"
    },
    "outputId": "ee5ddd35-047f-4e25-f553-d74e1940c6fa"
   },
   "outputs": [
    {
     "output_type": "stream",
     "name": "stdout",
     "text": [
      "tf.Tensor(4, shape=(), dtype=int32)\n"
     ]
    }
   ],
   "source": [
    "# This will be an int32 tensor by default; see \"dtypes\" below.\n",
    "rank_0_tensor = tf.constant(4)\n",
    "print(rank_0_tensor)"
   ],
   "id": "d5JcgLFR6gHv"
  },
  {
   "cell_type": "markdown",
   "metadata": {
    "id": "tdmPAn9fWYs5"
   },
   "source": [
    "A **vector** or **rank-1 tensor** is like a **list of values**. 📋  \n",
    "\n",
    "A **vector** has **one axis**: 📏  \n"
   ],
   "id": "tdmPAn9fWYs5"
  },
  {
   "cell_type": "code",
   "execution_count": null,
   "metadata": {
    "id": "oZos8o_R6oE7",
    "colab": {
     "base_uri": "https://localhost:8080/"
    },
    "outputId": "82c69caf-a377-493d-a23c-ed0ef36be56f"
   },
   "outputs": [
    {
     "output_type": "stream",
     "name": "stdout",
     "text": [
      "tf.Tensor([2. 3. 4.], shape=(3,), dtype=float32)\n"
     ]
    }
   ],
   "source": [
    "# Let's make this a float tensor.\n",
    "rank_1_tensor = tf.constant([2.0, 3.0, 4.0])\n",
    "print(rank_1_tensor)"
   ],
   "id": "oZos8o_R6oE7"
  },
  {
   "cell_type": "markdown",
   "metadata": {
    "id": "G3IJG-ug_H4u"
   },
   "source": "A **matrix** or **rank-2 tensor** has **two axes**: 🏗️📊  ",
   "id": "G3IJG-ug_H4u"
  },
  {
   "cell_type": "code",
   "execution_count": null,
   "metadata": {
    "id": "cnOIA_xb6u0M",
    "colab": {
     "base_uri": "https://localhost:8080/"
    },
    "outputId": "4ba58775-bce2-47a0-c12f-ad613259ec9b"
   },
   "outputs": [
    {
     "output_type": "stream",
     "name": "stdout",
     "text": [
      "tf.Tensor(\n",
      "[[1. 2.]\n",
      " [3. 4.]\n",
      " [5. 6.]], shape=(3, 2), dtype=float16)\n"
     ]
    }
   ],
   "source": [
    "# If you want to be specific, you can set the dtype (see below) at creation time\n",
    "rank_2_tensor = tf.constant([[1, 2],\n",
    "                             [3, 4],\n",
    "                             [5, 6]], dtype=tf.float16)\n",
    "print(rank_2_tensor)"
   ],
   "id": "cnOIA_xb6u0M"
  },
  {
   "cell_type": "markdown",
   "metadata": {
    "id": "19m72qEPkfxi"
   },
   "source": [
    "\n",
    "\n",
    "   <img src=\"./images/img.png\" width=60% />\n",
    "\n",
    "\n"
   ],
   "id": "19m72qEPkfxi"
  },
  {
   "cell_type": "markdown",
   "metadata": {
    "id": "fjFvzcn4_ehD"
   },
   "source": "Tensors may have **more axes**; here is a **tensor with three axes**: 📐🔢  ",
   "id": "fjFvzcn4_ehD"
  },
  {
   "cell_type": "code",
   "execution_count": null,
   "metadata": {
    "id": "sesW7gw6JkXy",
    "colab": {
     "base_uri": "https://localhost:8080/"
    },
    "outputId": "4519e5d8-021f-4663-e38a-eb12b4f5c8fe"
   },
   "outputs": [
    {
     "output_type": "stream",
     "name": "stdout",
     "text": [
      "tf.Tensor(\n",
      "[[[ 0  1  2  3  4]\n",
      "  [ 5  6  7  8  9]]\n",
      "\n",
      " [[10 11 12 13 14]\n",
      "  [15 16 17 18 19]]\n",
      "\n",
      " [[20 21 22 23 24]\n",
      "  [25 26 27 28 29]]], shape=(3, 2, 5), dtype=int32)\n"
     ]
    }
   ],
   "source": [
    "# There can be an arbitrary number of\n",
    "# axes (sometimes called \"dimensions\")\n",
    "rank_3_tensor = tf.constant([\n",
    "  [[0, 1, 2, 3, 4],\n",
    "   [5, 6, 7, 8, 9]],\n",
    "  [[10, 11, 12, 13, 14],\n",
    "   [15, 16, 17, 18, 19]],\n",
    "  [[20, 21, 22, 23, 24],\n",
    "   [25, 26, 27, 28, 29]],])\n",
    "\n",
    "print(rank_3_tensor)"
   ],
   "id": "sesW7gw6JkXy"
  },
  {
   "cell_type": "markdown",
   "metadata": {
    "id": "rM2sTGIkoE3S"
   },
   "source": "There are many ways to **visualize a tensor** with **more than two axes**. 🎨🖼️",
   "id": "rM2sTGIkoE3S"
  },
  {
   "cell_type": "markdown",
   "metadata": {
    "id": "NFiYfNMMhDgL"
   },
   "source": [
    "\n",
    "\n",
    "   <img src=\"./images/img_2.png\" width=60% />\n",
    "\n"
   ],
   "id": "NFiYfNMMhDgL"
  },
  {
   "cell_type": "markdown",
   "metadata": {
    "id": "oWAc0U8OZwNb"
   },
   "source": [
    "You can convert a **tensor** to a **NumPy array** using either: 🔄📊  \n",
    "\n",
    "- `np.array(tensor)` 🐍  \n",
    "- `tensor.numpy()` ⚡  "
   ],
   "id": "oWAc0U8OZwNb"
  },
  {
   "cell_type": "code",
   "execution_count": null,
   "metadata": {
    "id": "J5u6_6ZYaS7B",
    "colab": {
     "base_uri": "https://localhost:8080/"
    },
    "outputId": "0d564ef7-54b8-4d58-ed47-ed4daab0e872"
   },
   "outputs": [
    {
     "output_type": "execute_result",
     "data": {
      "text/plain": [
       "array([[1., 2.],\n",
       "       [3., 4.],\n",
       "       [5., 6.]], dtype=float16)"
      ]
     },
     "metadata": {},
     "execution_count": 18
    }
   ],
   "source": [
    "np.array(rank_2_tensor)"
   ],
   "id": "J5u6_6ZYaS7B"
  },
  {
   "cell_type": "code",
   "execution_count": null,
   "metadata": {
    "id": "c6Taz2gIaZeo",
    "colab": {
     "base_uri": "https://localhost:8080/"
    },
    "outputId": "8cf33bb5-7815-4a5a-a35e-d626f4d74979"
   },
   "outputs": [
    {
     "output_type": "execute_result",
     "data": {
      "text/plain": [
       "array([[1., 2.],\n",
       "       [3., 4.],\n",
       "       [5., 6.]], dtype=float16)"
      ]
     },
     "metadata": {},
     "execution_count": 19
    }
   ],
   "source": [
    "rank_2_tensor.numpy()"
   ],
   "id": "c6Taz2gIaZeo"
  },
  {
   "cell_type": "markdown",
   "source": [
    "**The most important attributes of a `tf.Tensor` are its `shape` and `dtype`:** 🏗️📊  \n",
    "\n",
    "- **`Tensor.shape`** 📏: Tells you the **size** of the tensor along each of its axes.  \n",
    "- **`Tensor.dtype`** 🔡: Tells you the **data type** of all the elements in the tensor.  \n"
   ],
   "metadata": {
    "id": "FvK_EFXB8Ls8"
   },
   "id": "FvK_EFXB8Ls8"
  },
  {
   "cell_type": "code",
   "metadata": {
    "colab": {
     "base_uri": "https://localhost:8080/"
    },
    "id": "dZvYzotP_rH3",
    "outputId": "d42b500c-05b0-48f1-d57d-396cb4d8cdbf"
   },
   "source": [
    "# Creating a constant tensor\n",
    "tensor = tf.constant([[1, 2], [3, 4]], dtype=tf.float32)\n",
    "print(\"Tensor:\", tensor)\n",
    "print(\"Shape:\", tensor.shape)\n",
    "print(\"Data Type:\", tensor.dtype)\n",
    "\n",
    "# Accessing elements in a tensor\n",
    "element_0_0 = tensor[0, 0]\n",
    "print(\"Element at [0,0]:\", element_0_0.numpy())\n",
    "\n",
    "# Performing slicing\n",
    "slice_of_tensor = tensor[:, 0]\n",
    "print(\"Sliced Tensor (all rows, col 0):\", slice_of_tensor.numpy())"
   ],
   "execution_count": null,
   "outputs": [
    {
     "output_type": "stream",
     "name": "stdout",
     "text": [
      "Tensor: tf.Tensor(\n",
      "[[1. 2.]\n",
      " [3. 4.]], shape=(2, 2), dtype=float32)\n",
      "Shape: (2, 2)\n",
      "Data Type: <dtype: 'float32'>\n",
      "Element at [0,0]: 1.0\n",
      "Sliced Tensor (all rows, col 0): [1. 3.]\n"
     ]
    }
   ],
   "id": "dZvYzotP_rH3"
  },
  {
   "cell_type": "markdown",
   "metadata": {
    "id": "MnAeAt0H_rH3"
   },
   "source": [
    "### 🔹 2.1.2 `tf.Variable`  \n",
    "\n",
    "`tf.Variable` is a **modifiable tensor** typically used to **store and update model parameters** during training. 🔄📊  \n",
    "\n",
    "Normal `tf.Tensor` objects are **immutable**. 🚫  \n",
    "To store **model weights** (or other mutable state) in TensorFlow, use a `tf.Variable`. ✅  \n"
   ],
   "id": "MnAeAt0H_rH3"
  },
  {
   "cell_type": "code",
   "metadata": {
    "colab": {
     "base_uri": "https://localhost:8080/"
    },
    "id": "0vKAyFfU_rH3",
    "outputId": "ebe8fb51-30ae-4624-c4f7-71c9811c0f2a"
   },
   "source": [
    "# Creating a tf.Variable\n",
    "var = tf.Variable([[5.0, 6.0], [7.0, 8.0]])\n",
    "print(\"Initial Value:\\n\", var.numpy())\n",
    "\n",
    "# Assigning new values\n",
    "var.assign([[1, 2], [3, 4]])\n",
    "print(\"Re-assigned Value:\\n\", var.numpy())\n",
    "\n",
    "# Incrementing values\n",
    "var.assign_add([[1, 1], [1, 1]])\n",
    "print(\"Incremented Value:\\n\", var.numpy())"
   ],
   "execution_count": null,
   "outputs": [
    {
     "output_type": "stream",
     "name": "stdout",
     "text": [
      "Initial Value:\n",
      " [[5. 6.]\n",
      " [7. 8.]]\n",
      "Re-assigned Value:\n",
      " [[1. 2.]\n",
      " [3. 4.]]\n",
      "Incremented Value:\n",
      " [[2. 3.]\n",
      " [4. 5.]]\n"
     ]
    }
   ],
   "id": "0vKAyFfU_rH3"
  },
  {
   "cell_type": "markdown",
   "metadata": {
    "id": "_Pr3yaFF_rH4"
   },
   "source": [
    "### 🔹 2.1.3 `tf.RaggedTensor`  \n",
    "\n",
    "If you need to handle **variable-length data** (e.g., sentences of different lengths),  \n",
    "`tf.RaggedTensor` can be used to **store these values efficiently**. 📏🗂️  \n"
   ],
   "id": "_Pr3yaFF_rH4"
  },
  {
   "cell_type": "code",
   "metadata": {
    "colab": {
     "base_uri": "https://localhost:8080/"
    },
    "id": "ObNUhR-C_rH4",
    "outputId": "07c31c5c-8697-4cee-b351-614805a7f0af"
   },
   "source": [
    "ragged = tf.ragged.constant([[1, 2], [3, 4, 5], [6]])\n",
    "print(\"Ragged Tensor:\", ragged)\n",
    "print(\"Ragged Tensor rows:\", [row.numpy() for row in ragged])"
   ],
   "execution_count": null,
   "outputs": [
    {
     "output_type": "stream",
     "name": "stdout",
     "text": [
      "Ragged Tensor: <tf.RaggedTensor [[1, 2], [3, 4, 5], [6]]>\n",
      "Ragged Tensor rows: [array([1, 2], dtype=int32), array([3, 4, 5], dtype=int32), array([6], dtype=int32)]\n"
     ]
    }
   ],
   "id": "ObNUhR-C_rH4"
  },
  {
   "cell_type": "markdown",
   "metadata": {
    "id": "W85d9QKE_rH5"
   },
   "source": [
    "### 🔹 2.1.4 `tf.SparseTensor`  \n",
    "\n",
    "`tf.SparseTensor` is used to **efficiently represent data** with a large proportion of **zero entries**. 🧩⚡ "
   ],
   "id": "W85d9QKE_rH5"
  },
  {
   "cell_type": "code",
   "metadata": {
    "colab": {
     "base_uri": "https://localhost:8080/"
    },
    "id": "-eq5yZVh_rH5",
    "outputId": "4cc894ea-8dd2-44f7-b7b0-5381def555bd"
   },
   "source": [
    "indices = [[0, 3], [2, 4]]\n",
    "values = [10, 20]\n",
    "dense_shape = [3, 10]\n",
    "\n",
    "sparse = tf.SparseTensor(indices=indices, values=values, dense_shape=dense_shape)\n",
    "print(\"Sparse Tensor:\", sparse)\n",
    "\n",
    "dense_from_sparse = tf.sparse.to_dense(sparse)\n",
    "print(\"\\n Converted to Dense:\\n\", dense_from_sparse.numpy())"
   ],
   "execution_count": null,
   "outputs": [
    {
     "output_type": "stream",
     "name": "stdout",
     "text": [
      "Sparse Tensor: SparseTensor(indices=tf.Tensor(\n",
      "[[0 3]\n",
      " [2 4]], shape=(2, 2), dtype=int64), values=tf.Tensor([10 20], shape=(2,), dtype=int32), dense_shape=tf.Tensor([ 3 10], shape=(2,), dtype=int64))\n",
      "\n",
      " Converted to Dense:\n",
      " [[ 0  0  0 10  0  0  0  0  0  0]\n",
      " [ 0  0  0  0  0  0  0  0  0  0]\n",
      " [ 0  0  0  0 20  0  0  0  0  0]]\n"
     ]
    }
   ],
   "id": "-eq5yZVh_rH5"
  },
  {
   "cell_type": "markdown",
   "source": " <img src=\"./images/img_3.png\" width=60% />\n",
   "metadata": {
    "id": "FNN55vDcu5zj"
   },
   "id": "FNN55vDcu5zj"
  },
  {
   "cell_type": "markdown",
   "metadata": {
    "id": "b7G0H7iD_rH6"
   },
   "source": [
    "## 🔢 3. Numerical APIs: Math, Linear Algebra, and Random  \n",
    "\n",
    "TensorFlow provides a suite of **mathematical** and **linear algebra** operations, as well as **random number generation** utilities. 🎯📊  \n",
    "\n",
    "These are **crucial for model building**, as they include everything from **simple math operations** ➕ to **advanced linear algebra routines** (like matrix decompositions). 🔢📏  \n",
    "\n",
    "### ✨ 3.1 Basic Math Operations  \n"
   ],
   "id": "b7G0H7iD_rH6"
  },
  {
   "cell_type": "code",
   "metadata": {
    "colab": {
     "base_uri": "https://localhost:8080/"
    },
    "id": "-dqBfb4m_rH6",
    "outputId": "f8e3d932-f933-489f-9c89-4c8e06021b47"
   },
   "source": [
    "# Basic arithmetic\n",
    "x = tf.constant([2.0, 4.0, 6.0])\n",
    "y = tf.constant([1.0, 2.0, 3.0])\n",
    "\n",
    "add_result = tf.add(x, y)\n",
    "sub_result = tf.subtract(x, y)\n",
    "mul_result = tf.multiply(x, y)\n",
    "div_result = tf.divide(x, y)\n",
    "\n",
    "print(\"x + y =\", add_result.numpy())\n",
    "print(\"x - y =\", sub_result.numpy())\n",
    "print(\"x * y =\", mul_result.numpy())\n",
    "print(\"x / y =\", div_result.numpy())"
   ],
   "execution_count": null,
   "outputs": [
    {
     "output_type": "stream",
     "name": "stdout",
     "text": [
      "x + y = [3. 6. 9.]\n",
      "x - y = [1. 2. 3.]\n",
      "x * y = [ 2.  8. 18.]\n",
      "x / y = [2. 2. 2.]\n"
     ]
    }
   ],
   "id": "-dqBfb4m_rH6"
  },
  {
   "cell_type": "markdown",
   "metadata": {
    "id": "sS4XnFSi_rH6"
   },
   "source": [
    "### 📐 3.2 Linear Algebra Operations  \n",
    "\n",
    "TensorFlow provides **efficient linear algebra operations**, essential for **deep learning** and **scientific computing**. 🔢🧮  \n",
    "\n",
    "These include:  \n",
    "- **Matrix multiplications** (`tf.matmul`) ➗  \n",
    "- **Determinants and inverses** (`tf.linalg.det`, `tf.linalg.inv`) 📏  \n",
    "- **Eigenvalues and eigenvectors** (`tf.linalg.eig`) 🔄  \n",
    "- **Singular Value Decomposition (SVD)** (`tf.linalg.svd`) 📊  \n",
    "\n",
    "These operations power everything from **neural networks** to **statistical modeling**! 🚀💡  \n",
    "\n",
    " <img src=\"./images/img_4.png\" width=60% />\n",
    " <img src=\"./images/img_5.png\" width=60% />\n"
   ],
   "id": "sS4XnFSi_rH6"
  },
  {
   "cell_type": "code",
   "metadata": {
    "colab": {
     "base_uri": "https://localhost:8080/"
    },
    "id": "dXFlJVQd_rH6",
    "outputId": "438cb956-7e24-4193-be46-b2f883870f16"
   },
   "source": [
    "# Matrix multiplication\n",
    "A = tf.constant([[2.0, 3.0], [1.0, 4.0]])\n",
    "B = tf.constant([[1.0, 2.0], [3.0, 4.0]])\n",
    "matmul_result = tf.linalg.matmul(A, B)\n",
    "print(\"Matrix Multiplication (A @ B):\\n\", matmul_result.numpy())\n"
   ],
   "execution_count": null,
   "outputs": [
    {
     "output_type": "stream",
     "name": "stdout",
     "text": [
      "Matrix Multiplication (A @ B):\n",
      " [[11. 16.]\n",
      " [13. 18.]]\n"
     ]
    }
   ],
   "id": "dXFlJVQd_rH6"
  },
  {
   "cell_type": "markdown",
   "metadata": {
    "id": "ftjFyZpc_rH7"
   },
   "source": [
    "### 🎲 3.3 Random Number Generation  \n",
    "\n",
    "TensorFlow provides **random number generation (RNG)** utilities for initializing weights, augmenting data, and creating stochastic models. 🔢🎯  \n",
    "\n",
    "Some key functions include:  \n",
    "- **`tf.random.normal`** 📊 – Generates numbers from a normal distribution.  \n",
    "- **`tf.random.uniform`** 📏 – Generates numbers from a uniform distribution.  \n",
    "- **`tf.random.shuffle`** 🔀 – Shuffles the order of elements in a tensor.  \n",
    "- **`tf.random.set_seed`** 🔒 – Sets a seed for reproducibility.  \n",
    "\n",
    "Random number generation is essential for **machine learning experiments** and **ensuring reproducibility**! 🚀  \n"
   ],
   "id": "ftjFyZpc_rH7"
  },
  {
   "cell_type": "code",
   "metadata": {
    "id": "vXsIS5tc_rH7"
   },
   "source": [
    "# Normal distribution\n",
    "normal_dist = tf.random.normal([3, 3], mean=0.0, stddev=1.0)\n",
    "print(\"Random Normal:\", normal_dist.numpy())\n",
    "\n",
    "# Uniform distribution\n",
    "uniform_dist = tf.random.uniform([2, 2], minval=0, maxval=10)\n",
    "print(\"Random Uniform:\", uniform_dist.numpy())\n",
    "\n",
    "# Setting a seed for reproducibility\n",
    "tf.random.set_seed(42)\n",
    "seeded_normal = tf.random.normal([2, 2])\n",
    "print(\"Seeded Random Normal:\", seeded_normal.numpy())"
   ],
   "execution_count": null,
   "outputs": [],
   "id": "vXsIS5tc_rH7"
  },
  {
   "cell_type": "markdown",
   "source": [
    "### 📉 3.4 `tf.reduce_mean`  \n",
    "\n",
    "`tf.reduce_mean` computes the **average (arithmetic mean)** of elements across specified **dimensions (axes)** of a tensor. 📊🔢  \n",
    "\n",
    "- If **no axis** is provided, it calculates the **mean of all elements** in the tensor. 🔄⚡  \n"
   ],
   "metadata": {
    "id": "BQd8WCAjh6u4"
   },
   "id": "BQd8WCAjh6u4"
  },
  {
   "cell_type": "code",
   "source": [
    "# Suppose we have a 2D tensor\n",
    "x = tf.constant([[1, 2, 3],\n",
    "                 [4, 5, 6]], dtype=tf.float32)\n",
    "\n",
    "# 1) Mean of all elements\n",
    "mean_all = tf.reduce_mean(x)\n",
    "print(\"mean_all:\", mean_all.numpy())\n",
    "# Output: 3.5  (average of [1,2,3,4,5,6])\n",
    "\n",
    "# 2) Mean along axis=0 (columns)\n",
    "mean_cols = tf.reduce_mean(x, axis=0)\n",
    "print(\"mean_cols:\", mean_cols.numpy())\n",
    "# Output: [2.5 3.5 4.5]  (col-wise means)\n",
    "\n",
    "# 3) Mean along axis=1 (rows)\n",
    "mean_rows = tf.reduce_mean(x, axis=1)\n",
    "print(\"mean_rows:\", mean_rows.numpy())\n",
    "# Output: [2. 5.]  (row-wise means)"
   ],
   "metadata": {
    "colab": {
     "base_uri": "https://localhost:8080/"
    },
    "id": "9uZ2QNw1h0nO",
    "outputId": "7faf7ead-e94d-48c9-91df-d184bc971193"
   },
   "id": "9uZ2QNw1h0nO",
   "execution_count": null,
   "outputs": [
    {
     "output_type": "stream",
     "name": "stdout",
     "text": [
      "mean_all: 3.5\n",
      "mean_cols: [2.5 3.5 4.5]\n",
      "mean_rows: [2. 5.]\n"
     ]
    }
   ]
  },
  {
   "cell_type": "markdown",
   "metadata": {
    "id": "WUHS3Eqy_rH7"
   },
   "source": [
    "## 🔗 4. Computation Graphs in TensorFlow 2.x  \n",
    "\n",
    "TensorFlow 2.x **executes eagerly by default**. ⚡  \n",
    "This means that operations run **immediately in Python** rather than first building a static graph.  \n",
    "\n",
    "However, for **optimized performance**, you can create **computation graphs** via `tf.function()`. 📈  \n",
    "This transforms your Python functions into **static graphs** for **faster execution**. 🚀  \n",
    "\n",
    "### ⚡ 4.1 Eager Execution  \n",
    "- **By default, each operation executes immediately.** 🏃‍♂️  \n",
    "- **Easy for debugging and interactive exploration.** 🛠️  \n",
    "\n",
    "### 🔄 4.2 `tf.function()`  \n",
    "- **Decorate a Python function** with `@tf.function` to **trace it and create a graph**. 🔍  \n",
    "- **Significantly improves performance**, especially for repeated function calls. ⚡📊  \n",
    "\n",
    "#### 🔥 **Without `@tf.function`**  \n",
    "- TensorFlow **runs eagerly**, executing **one operation at a time** (like normal Python). 🐍  \n",
    "- **Great for debugging** but may be **slower** for repetitive tasks. 🛠️🐢  \n",
    "\n",
    "#### 🚀 **With `@tf.function`**  \n",
    "- TensorFlow **traces** your Python function and **builds a reusable computational graph** (aka “graph execution”). 📈  \n",
    "- **Runs faster** due to optimizations but introduces some **constraints** (e.g., control flow must be TensorFlow-compatible). ⚠️  \n",
    "\n",
    "### 🏗️ Example: Creating a Computational Graph  \n",
    "Below is an example of a **computational graph in TensorFlow**:  \n",
    "\n",
    "![Computation Graph](./images/img_6.png)  \n",
    "\n"
   ],
   "id": "WUHS3Eqy_rH7"
  },
  {
   "cell_type": "code",
   "metadata": {
    "colab": {
     "base_uri": "https://localhost:8080/"
    },
    "id": "YTBDaTWa_rH7",
    "outputId": "d9201a62-29ab-4156-9e83-6c23d0e84257"
   },
   "source": [
    "@tf.function  # Convert to a computation graph\n",
    "def computation_graph(x1, x2):\n",
    "    add_op = x1 + x2\n",
    "    mul_op = x1 * x2\n",
    "    sub_op = add_op - mul_op\n",
    "    print('Tracing.\\n')\n",
    "    return sub_op\n",
    "\n",
    "# Inputs\n",
    "x1 = tf.constant(7, dtype=tf.float32)\n",
    "x2 = tf.constant(3, dtype=tf.float32)\n",
    "\n",
    "computation_graph(x1, x2)\n"
   ],
   "execution_count": null,
   "outputs": [
    {
     "output_type": "stream",
     "name": "stdout",
     "text": [
      "Tracing.\n",
      "\n"
     ]
    },
    {
     "output_type": "execute_result",
     "data": {
      "text/plain": [
       "<tf.Tensor: shape=(), dtype=int32, numpy=-11>"
      ]
     },
     "metadata": {},
     "execution_count": 5
    }
   ],
   "id": "YTBDaTWa_rH7"
  },
  {
   "cell_type": "markdown",
   "source": [
    "On **subsequent calls**, TensorFlow **only executes the optimized graph**,  \n",
    "skipping any **non-TensorFlow steps** for **faster execution**. ⚡📈🚀  \n",
    "\n",
    "⚠️ **Note:** The `computation_graph` does **not print tracing** because `print()` is a **Python function**,  \n",
    "not a **TensorFlow function**. 🐍❌🔄  "
   ],
   "metadata": {
    "id": "gzf8S9d0pjkK"
   },
   "id": "gzf8S9d0pjkK"
  },
  {
   "cell_type": "code",
   "source": [
    "x1 = tf.constant(2, dtype=tf.float32)\n",
    "x2 = tf.constant(1, dtype=tf.float32)\n",
    "computation_graph(x1, x2)"
   ],
   "metadata": {
    "colab": {
     "base_uri": "https://localhost:8080/"
    },
    "id": "PJnUOZJFpBGT",
    "outputId": "5fd907ce-bde9-47db-b5b5-35338217997f"
   },
   "id": "PJnUOZJFpBGT",
   "execution_count": null,
   "outputs": [
    {
     "output_type": "stream",
     "name": "stdout",
     "text": [
      "Tracing.\n",
      "\n"
     ]
    },
    {
     "output_type": "execute_result",
     "data": {
      "text/plain": [
       "<tf.Tensor: shape=(), dtype=int32, numpy=1>"
      ]
     },
     "metadata": {},
     "execution_count": 6
    }
   ]
  },
  {
   "cell_type": "markdown",
   "metadata": {
    "id": "PSRlWwo4_rH8"
   },
   "source": [
    "## 🎯 5. Automatic Differentiation using `tf.GradientTape()`  \n",
    "\n",
    "TensorFlow uses the **reverse-mode autodiff algorithm** to compute **gradients**. 🔄📈  \n",
    "You can record operations on tensors inside a **`tf.GradientTape()` context**,  \n",
    "and then request **gradients** with respect to any **trainable variables or tensors**. 🛠️  \n",
    "\n",
    "### 🔢 5.1 Single Variable Example  \n"
   ],
   "id": "PSRlWwo4_rH8"
  },
  {
   "cell_type": "code",
   "metadata": {
    "colab": {
     "base_uri": "https://localhost:8080/"
    },
    "id": "0DFj9Zgl_rH8",
    "outputId": "0227a1d7-417c-4abe-e6b8-96787199a68a"
   },
   "source": [
    "x = tf.Variable(2.0)\n",
    "with tf.GradientTape() as tape:\n",
    "    y = x ** 3  # y = x^3\n",
    "\n",
    "dy_dx = tape.gradient(y, x)\n",
    "print(\"If y = x^3 and x = 2.0, dy/dx should be 3*x^2 = 12.0.\")\n",
    "print(\"Computed Gradient:\", dy_dx.numpy())"
   ],
   "execution_count": null,
   "outputs": [
    {
     "output_type": "stream",
     "name": "stdout",
     "text": [
      "If y = x^3 and x = 2.0, dy/dx should be 3*x^2 = 12.0.\n",
      "Computed Gradient: 12.0\n"
     ]
    }
   ],
   "id": "0DFj9Zgl_rH8"
  },
  {
   "cell_type": "markdown",
   "metadata": {
    "id": "-xlZncsh_rH8"
   },
   "source": [
    "### 🔢 5.2 Multiple Variables Example  \n",
    "\n",
    "In **neural networks**, you'd typically track **multiple trainable variables**. 🤖🧠  \n",
    "Here's a **simplified demonstration** with **two variables**. 🎯📊  \n"
   ],
   "id": "-xlZncsh_rH8"
  },
  {
   "cell_type": "code",
   "metadata": {
    "colab": {
     "base_uri": "https://localhost:8080/"
    },
    "id": "NcScbwrJ_rH8",
    "outputId": "b0f5bedb-483f-4905-881b-8231471c1f8b"
   },
   "source": [
    "w = tf.Variable(1.0)\n",
    "b = tf.Variable(2.0)\n",
    "x_vals = tf.constant([1.0, 2.0, 3.0])\n",
    "\n",
    "with tf.GradientTape() as tape:\n",
    "    # A simple linear function: y = w * x + b\n",
    "    y_vals = w * x_vals + b\n",
    "    loss = tf.reduce_mean((y_vals - tf.constant([2.0, 4.0, 6.0]))**2)\n",
    "\n",
    "gradients = tape.gradient(loss, [w, b])\n",
    "print(\"Loss:\", loss.numpy())\n",
    "print(\"dLoss/dw:\", gradients[0].numpy())\n",
    "print(\"dLoss/db:\", gradients[1].numpy())"
   ],
   "execution_count": null,
   "outputs": [
    {
     "output_type": "stream",
     "name": "stdout",
     "text": [
      "Loss: 0.6666667\n",
      "dLoss/dw: -1.3333333\n",
      "dLoss/db: 0.0\n"
     ]
    }
   ],
   "id": "NcScbwrJ_rH8"
  },
  {
   "metadata": {},
   "cell_type": "markdown",
   "source": [
    "<img src=\"./images/img_7.png\" width=60% />\n",
    "<img src=\"./images/img_7_1.png\" width=60% />\n",
    "<img src=\"./images/img_8.png\" width=60% />\n",
    "<img src=\"./images/img_9.png\" width=60% />"
   ],
   "id": "6e3f4150483275d"
  },
  {
   "cell_type": "markdown",
   "metadata": {
    "id": "mmi8mDTB_rH8"
   },
   "source": [
    "## 🎯 Conclusion  \n",
    "\n",
    "In this notebook, you learned about:  \n",
    "\n",
    "1. ✅ **Importing TensorFlow** and checking versions/devices.  \n",
    "2. 🏗️ **The TensorFlow Core API**, including fundamental data structures (`tf.Tensor`, `tf.Variable`, etc.).  \n",
    "3. 🔢 **Numerical APIs** (math, linear algebra, random operations).  \n",
    "4. ⚡ **Building Computation Graphs** in TF 2.x using `tf.function`.  \n",
    "5. 🔄 **Automatic Differentiation** with `tf.GradientTape()`.  \n",
    "\n",
    "This foundation will help you **build more complex TensorFlow models**  \n",
    "and understand **performance tuning, debugging, and deployment strategies**. 🚀📊  \n"
   ],
   "id": "mmi8mDTB_rH8"
  }
 ],
 "metadata": {
  "kernelspec": {
   "name": "python3",
   "display_name": "Python 3"
  },
  "language_info": {
   "name": "python",
   "version": "3.7"
  },
  "colab": {
   "provenance": [],
   "gpuType": "T4"
  },
  "accelerator": "GPU"
 },
 "nbformat": 4,
 "nbformat_minor": 5
}
