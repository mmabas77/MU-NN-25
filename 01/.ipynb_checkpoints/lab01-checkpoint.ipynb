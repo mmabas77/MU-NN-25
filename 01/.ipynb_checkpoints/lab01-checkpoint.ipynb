{
 "cells": [
  {
   "cell_type": "markdown",
   "metadata": {
    "id": "1RvpLE_kB-lt"
   },
   "source": [
    "# **Lab 1: Introduction to Python for Data Science** 🧑‍💻📊  \n",
    "\n",
    "## **Topics Covered**\n",
    "### 🔹 **1. Jupyter Notebooks**  \n",
    "- Introduction to Jupyter Notebook  \n",
    "- Features and benefits  \n",
    "- Running Python code in Jupyter  \n",
    "\n",
    "### 🔹 **2. Google Colab Notebooks**  \n",
    "- Overview of Google Colab  \n",
    "- Advantages over local Jupyter Notebook  \n",
    "- Running Python code on the cloud  \n",
    "\n",
    "### 🔹 **3. NumPy Library (Numerical Python)**  \n",
    "- Creating and manipulating arrays  \n",
    "- Vectorized operations for efficiency  \n",
    "- Indexing, slicing, and reshaping arrays  \n",
    "\n",
    "### 🔹 **4. Pandas Library (Data Manipulation)**  \n",
    "- Understanding **Series** and **DataFrames**  \n",
    "- Importing and exporting datasets  \n",
    "- Data cleaning and transformation  \n",
    "- Applying functions and aggregations  \n",
    "\n",
    "### 🔹 **5. Matplotlib Library (Data Visualization)**  \n",
    "- Creating basic plots (line, bar, scatter)  \n",
    "- Customizing graphs (labels, legends, colors)  \n",
    "- Saving figures for reports  \n"
   ]
  },
  {
   "metadata": {},
   "cell_type": "markdown",
   "source": "# **Numpy**"
  },
  {
   "cell_type": "code",
   "metadata": {
    "id": "FOS8xPc9JAnS",
    "ExecuteTime": {
     "end_time": "2025-02-15T01:18:53.340613Z",
     "start_time": "2025-02-15T01:18:53.167079Z"
    }
   },
   "source": [
    "import numpy as np"
   ],
   "outputs": [],
   "execution_count": 1
  },
  {
   "cell_type": "markdown",
   "metadata": {
    "id": "8_lG1lh8-qlD"
   },
   "source": [
    "# Creating Arrays"
   ]
  },
  {
   "cell_type": "code",
   "metadata": {
    "id": "vTdYdlJNUQa4",
    "ExecuteTime": {
     "end_time": "2025-02-15T01:18:53.388489Z",
     "start_time": "2025-02-15T01:18:53.376520Z"
    }
   },
   "source": [
    "my_list = [0,1,2,3,4]"
   ],
   "outputs": [],
   "execution_count": 2
  },
  {
   "cell_type": "code",
   "metadata": {
    "id": "VkOpUWvIVHtk",
    "ExecuteTime": {
     "end_time": "2025-02-15T01:18:53.880173Z",
     "start_time": "2025-02-15T01:18:53.866209Z"
    }
   },
   "source": [
    "arr = np.array(my_list)"
   ],
   "outputs": [],
   "execution_count": 3
  },
  {
   "cell_type": "code",
   "metadata": {
    "id": "FT4CyVp798E2",
    "outputId": "e3c8136f-50fc-4e2e-f541-3c06d77370e3",
    "ExecuteTime": {
     "end_time": "2025-02-15T01:18:53.991873Z",
     "start_time": "2025-02-15T01:18:53.973926Z"
    }
   },
   "source": [
    "arr"
   ],
   "outputs": [
    {
     "data": {
      "text/plain": [
       "array([0, 1, 2, 3, 4])"
      ]
     },
     "execution_count": 4,
     "metadata": {},
     "output_type": "execute_result"
    }
   ],
   "execution_count": 4
  },
  {
   "cell_type": "code",
   "metadata": {
    "id": "9cv2munS9-5Z",
    "outputId": "1aac7243-2222-4117-d3bd-78d284e04da2",
    "ExecuteTime": {
     "end_time": "2025-02-15T01:18:54.214278Z",
     "start_time": "2025-02-15T01:18:54.193334Z"
    }
   },
   "source": [
    "np.arange(0,10)"
   ],
   "outputs": [
    {
     "data": {
      "text/plain": [
       "array([0, 1, 2, 3, 4, 5, 6, 7, 8, 9])"
      ]
     },
     "execution_count": 5,
     "metadata": {},
     "output_type": "execute_result"
    }
   ],
   "execution_count": 5
  },
  {
   "cell_type": "code",
   "metadata": {
    "id": "EV0m0Cs7-CFc",
    "outputId": "dc74abf4-16aa-4be1-a786-f03ed313c874",
    "ExecuteTime": {
     "end_time": "2025-02-15T01:18:54.403773Z",
     "start_time": "2025-02-15T01:18:54.385820Z"
    }
   },
   "source": [
    "np.arange(0,10,3)"
   ],
   "outputs": [
    {
     "data": {
      "text/plain": [
       "array([0, 3, 6, 9])"
      ]
     },
     "execution_count": 6,
     "metadata": {},
     "output_type": "execute_result"
    }
   ],
   "execution_count": 6
  },
  {
   "cell_type": "code",
   "metadata": {
    "id": "yUpOtDUi-FSW",
    "outputId": "e022e27e-be11-48ab-8bfb-0e63a1a5958a",
    "ExecuteTime": {
     "end_time": "2025-02-15T01:18:54.673054Z",
     "start_time": "2025-02-15T01:18:54.651110Z"
    }
   },
   "source": [
    "np.zeros((5,5))"
   ],
   "outputs": [
    {
     "data": {
      "text/plain": [
       "array([[0., 0., 0., 0., 0.],\n",
       "       [0., 0., 0., 0., 0.],\n",
       "       [0., 0., 0., 0., 0.],\n",
       "       [0., 0., 0., 0., 0.],\n",
       "       [0., 0., 0., 0., 0.]])"
      ]
     },
     "execution_count": 7,
     "metadata": {},
     "output_type": "execute_result"
    }
   ],
   "execution_count": 7
  },
  {
   "cell_type": "code",
   "metadata": {
    "id": "8qzXLaP9-JOx",
    "outputId": "cf3510c5-8385-4086-8d71-bcbcfa088a53",
    "ExecuteTime": {
     "end_time": "2025-02-15T01:18:55.290401Z",
     "start_time": "2025-02-15T01:18:55.276438Z"
    }
   },
   "source": [
    "np.ones((2,4))"
   ],
   "outputs": [
    {
     "data": {
      "text/plain": [
       "array([[1., 1., 1., 1.],\n",
       "       [1., 1., 1., 1.]])"
      ]
     },
     "execution_count": 8,
     "metadata": {},
     "output_type": "execute_result"
    }
   ],
   "execution_count": 8
  },
  {
   "cell_type": "code",
   "metadata": {
    "id": "oHgytnkn-L3l",
    "scrolled": true,
    "outputId": "de8fa042-3074-47b2-d7fe-1e39b6dc0882",
    "ExecuteTime": {
     "end_time": "2025-02-15T01:18:55.702299Z",
     "start_time": "2025-02-15T01:18:55.693326Z"
    }
   },
   "source": [
    "np.random.randint(0,10)"
   ],
   "outputs": [
    {
     "data": {
      "text/plain": [
       "3"
      ]
     },
     "execution_count": 9,
     "metadata": {},
     "output_type": "execute_result"
    }
   ],
   "execution_count": 9
  },
  {
   "cell_type": "code",
   "metadata": {
    "id": "VadJPzBI-Oq8",
    "outputId": "20f4d5f8-e95b-4acf-e98f-26d78977a95b",
    "ExecuteTime": {
     "end_time": "2025-02-15T01:18:56.128160Z",
     "start_time": "2025-02-15T01:18:56.115196Z"
    }
   },
   "source": [
    "np.random.randint(0,100,(3,3))"
   ],
   "outputs": [
    {
     "data": {
      "text/plain": [
       "array([[58, 16, 70],\n",
       "       [79,  8, 15],\n",
       "       [73, 40, 61]])"
      ]
     },
     "execution_count": 10,
     "metadata": {},
     "output_type": "execute_result"
    }
   ],
   "execution_count": 10
  },
  {
   "cell_type": "code",
   "metadata": {
    "id": "Hd7fjFp4-XHm",
    "outputId": "89d528df-e09b-4d17-d452-7b976d30e2f3",
    "ExecuteTime": {
     "end_time": "2025-02-15T01:18:56.493184Z",
     "start_time": "2025-02-15T01:18:56.476231Z"
    }
   },
   "source": [
    "np.linspace(0,10,6)"
   ],
   "outputs": [
    {
     "data": {
      "text/plain": [
       "array([ 0.,  2.,  4.,  6.,  8., 10.])"
      ]
     },
     "execution_count": 11,
     "metadata": {},
     "output_type": "execute_result"
    }
   ],
   "execution_count": 11
  },
  {
   "cell_type": "code",
   "metadata": {
    "id": "0FXmrmaj-dv_",
    "outputId": "2289eee4-f871-40be-d644-916140320b65",
    "ExecuteTime": {
     "end_time": "2025-02-15T01:18:57.109536Z",
     "start_time": "2025-02-15T01:18:57.097568Z"
    }
   },
   "source": [
    "np.linspace(0,10,101)"
   ],
   "outputs": [
    {
     "data": {
      "text/plain": [
       "array([ 0. ,  0.1,  0.2,  0.3,  0.4,  0.5,  0.6,  0.7,  0.8,  0.9,  1. ,\n",
       "        1.1,  1.2,  1.3,  1.4,  1.5,  1.6,  1.7,  1.8,  1.9,  2. ,  2.1,\n",
       "        2.2,  2.3,  2.4,  2.5,  2.6,  2.7,  2.8,  2.9,  3. ,  3.1,  3.2,\n",
       "        3.3,  3.4,  3.5,  3.6,  3.7,  3.8,  3.9,  4. ,  4.1,  4.2,  4.3,\n",
       "        4.4,  4.5,  4.6,  4.7,  4.8,  4.9,  5. ,  5.1,  5.2,  5.3,  5.4,\n",
       "        5.5,  5.6,  5.7,  5.8,  5.9,  6. ,  6.1,  6.2,  6.3,  6.4,  6.5,\n",
       "        6.6,  6.7,  6.8,  6.9,  7. ,  7.1,  7.2,  7.3,  7.4,  7.5,  7.6,\n",
       "        7.7,  7.8,  7.9,  8. ,  8.1,  8.2,  8.3,  8.4,  8.5,  8.6,  8.7,\n",
       "        8.8,  8.9,  9. ,  9.1,  9.2,  9.3,  9.4,  9.5,  9.6,  9.7,  9.8,\n",
       "        9.9, 10. ])"
      ]
     },
     "execution_count": 12,
     "metadata": {},
     "output_type": "execute_result"
    }
   ],
   "execution_count": 12
  },
  {
   "cell_type": "markdown",
   "metadata": {
    "id": "QjAvP_EB-xhg"
   },
   "source": [
    "# Operations"
   ]
  },
  {
   "cell_type": "code",
   "metadata": {
    "id": "pF6XxZKW-jRZ",
    "ExecuteTime": {
     "end_time": "2025-02-15T01:18:57.568311Z",
     "start_time": "2025-02-15T01:18:57.549361Z"
    }
   },
   "source": [
    "np.random.seed(101)\n",
    "arr2 = np.random.randint(0,100,10)"
   ],
   "outputs": [],
   "execution_count": 13
  },
  {
   "cell_type": "code",
   "metadata": {
    "id": "odOk9rHi-5ZJ",
    "outputId": "2f10343d-1796-4b79-bcc5-c5f509038a15",
    "ExecuteTime": {
     "end_time": "2025-02-15T01:18:57.664055Z",
     "start_time": "2025-02-15T01:18:57.650093Z"
    }
   },
   "source": [
    "arr2"
   ],
   "outputs": [
    {
     "data": {
      "text/plain": [
       "array([95, 11, 81, 70, 63, 87, 75,  9, 77, 40])"
      ]
     },
     "execution_count": 14,
     "metadata": {},
     "output_type": "execute_result"
    }
   ],
   "execution_count": 14
  },
  {
   "cell_type": "code",
   "metadata": {
    "id": "p14vXr8q-6kh",
    "outputId": "f5cd591e-837d-4fdb-c386-335adab69ff7",
    "ExecuteTime": {
     "end_time": "2025-02-15T01:18:57.916378Z",
     "start_time": "2025-02-15T01:18:57.897430Z"
    }
   },
   "source": [
    "print( np.random.randint(0,100,10))"
   ],
   "outputs": [
    {
     "name": "stdout",
     "output_type": "stream",
     "text": [
      "[ 4 63 40 60 92 64  5 12 93 40]\n"
     ]
    }
   ],
   "execution_count": 15
  },
  {
   "cell_type": "code",
   "metadata": {
    "id": "vmfTog71--hR",
    "outputId": "c955181e-150f-4aa6-e0d2-f756798d7d35",
    "ExecuteTime": {
     "end_time": "2025-02-15T01:18:58.231536Z",
     "start_time": "2025-02-15T01:18:58.221563Z"
    }
   },
   "source": [
    "arr2.max()"
   ],
   "outputs": [
    {
     "data": {
      "text/plain": [
       "95"
      ]
     },
     "execution_count": 16,
     "metadata": {},
     "output_type": "execute_result"
    }
   ],
   "execution_count": 16
  },
  {
   "cell_type": "code",
   "metadata": {
    "id": "XsQ9rcMv_Lhe",
    "outputId": "0b549477-30e7-4adb-904b-f6f049baa041",
    "ExecuteTime": {
     "end_time": "2025-02-15T01:18:58.773087Z",
     "start_time": "2025-02-15T01:18:58.762118Z"
    }
   },
   "source": [
    "arr2.min()"
   ],
   "outputs": [
    {
     "data": {
      "text/plain": [
       "9"
      ]
     },
     "execution_count": 17,
     "metadata": {},
     "output_type": "execute_result"
    }
   ],
   "execution_count": 17
  },
  {
   "cell_type": "code",
   "metadata": {
    "id": "B-_CSjN5_OJS",
    "outputId": "94f0142c-1b26-4b9f-b796-5cd4be396a9e",
    "ExecuteTime": {
     "end_time": "2025-02-15T01:18:58.978539Z",
     "start_time": "2025-02-15T01:18:58.957598Z"
    }
   },
   "source": [
    "arr2.mean()"
   ],
   "outputs": [
    {
     "data": {
      "text/plain": [
       "60.8"
      ]
     },
     "execution_count": 18,
     "metadata": {},
     "output_type": "execute_result"
    }
   ],
   "execution_count": 18
  },
  {
   "cell_type": "code",
   "metadata": {
    "id": "Gf-6Mwqv_QSW",
    "outputId": "63afa6c3-8250-4f77-c730-3017a79aed49",
    "ExecuteTime": {
     "end_time": "2025-02-15T01:18:59.088246Z",
     "start_time": "2025-02-15T01:18:59.075281Z"
    }
   },
   "source": [
    "arr2.argmin()"
   ],
   "outputs": [
    {
     "data": {
      "text/plain": [
       "7"
      ]
     },
     "execution_count": 19,
     "metadata": {},
     "output_type": "execute_result"
    }
   ],
   "execution_count": 19
  },
  {
   "cell_type": "code",
   "metadata": {
    "id": "XxQ-o5wA_SNo",
    "outputId": "af9c2c7d-68d8-40ad-d959-af343522429d",
    "ExecuteTime": {
     "end_time": "2025-02-15T01:18:59.325612Z",
     "start_time": "2025-02-15T01:18:59.308658Z"
    }
   },
   "source": [
    "arr2.argmax()"
   ],
   "outputs": [
    {
     "data": {
      "text/plain": [
       "0"
      ]
     },
     "execution_count": 20,
     "metadata": {},
     "output_type": "execute_result"
    }
   ],
   "execution_count": 20
  },
  {
   "cell_type": "code",
   "metadata": {
    "id": "cy2ib-ntBIpY",
    "outputId": "bd005e66-be77-4d60-c9b0-77d4a5346c72",
    "ExecuteTime": {
     "end_time": "2025-02-15T01:18:59.562977Z",
     "start_time": "2025-02-15T01:18:59.540047Z"
    }
   },
   "source": [
    "arr2.reshape(2,5)"
   ],
   "outputs": [
    {
     "data": {
      "text/plain": [
       "array([[95, 11, 81, 70, 63],\n",
       "       [87, 75,  9, 77, 40]])"
      ]
     },
     "execution_count": 21,
     "metadata": {},
     "output_type": "execute_result"
    }
   ],
   "execution_count": 21
  },
  {
   "cell_type": "code",
   "metadata": {
    "id": "x0AqXCSxSnVZ",
    "ExecuteTime": {
     "end_time": "2025-02-15T01:18:59.753466Z",
     "start_time": "2025-02-15T01:18:59.740502Z"
    }
   },
   "source": [
    "arr3=np.random.randint(0,100,9)"
   ],
   "outputs": [],
   "execution_count": 22
  },
  {
   "cell_type": "code",
   "metadata": {
    "id": "nXDva_M7SnVa",
    "outputId": "2ee1aacc-6e00-42fc-9c9b-5854070e5c80",
    "ExecuteTime": {
     "end_time": "2025-02-15T01:18:59.909051Z",
     "start_time": "2025-02-15T01:18:59.898080Z"
    }
   },
   "source": [
    "arr3.reshape(3,3)"
   ],
   "outputs": [
    {
     "data": {
      "text/plain": [
       "array([[49, 83,  8],\n",
       "       [29, 59, 34],\n",
       "       [44, 72, 19]])"
      ]
     },
     "execution_count": 23,
     "metadata": {},
     "output_type": "execute_result"
    }
   ],
   "execution_count": 23
  },
  {
   "cell_type": "markdown",
   "metadata": {
    "id": "vdvBNqnmBTmB"
   },
   "source": [
    "# Indexing"
   ]
  },
  {
   "cell_type": "code",
   "metadata": {
    "id": "px4DoIjEBPv5",
    "ExecuteTime": {
     "end_time": "2025-02-15T01:19:00.209250Z",
     "start_time": "2025-02-15T01:19:00.198278Z"
    }
   },
   "source": [
    "mat = np.arange(0,100).reshape(10,10)\n"
   ],
   "outputs": [],
   "execution_count": 24
  },
  {
   "cell_type": "code",
   "metadata": {
    "id": "dAMC0h-tBabZ",
    "outputId": "a1e746f7-a9ec-4799-c6cd-79b1639671f6",
    "ExecuteTime": {
     "end_time": "2025-02-15T01:19:00.430658Z",
     "start_time": "2025-02-15T01:19:00.417690Z"
    }
   },
   "source": [
    "mat"
   ],
   "outputs": [
    {
     "data": {
      "text/plain": [
       "array([[ 0,  1,  2,  3,  4,  5,  6,  7,  8,  9],\n",
       "       [10, 11, 12, 13, 14, 15, 16, 17, 18, 19],\n",
       "       [20, 21, 22, 23, 24, 25, 26, 27, 28, 29],\n",
       "       [30, 31, 32, 33, 34, 35, 36, 37, 38, 39],\n",
       "       [40, 41, 42, 43, 44, 45, 46, 47, 48, 49],\n",
       "       [50, 51, 52, 53, 54, 55, 56, 57, 58, 59],\n",
       "       [60, 61, 62, 63, 64, 65, 66, 67, 68, 69],\n",
       "       [70, 71, 72, 73, 74, 75, 76, 77, 78, 79],\n",
       "       [80, 81, 82, 83, 84, 85, 86, 87, 88, 89],\n",
       "       [90, 91, 92, 93, 94, 95, 96, 97, 98, 99]])"
      ]
     },
     "execution_count": 25,
     "metadata": {},
     "output_type": "execute_result"
    }
   ],
   "execution_count": 25
  },
  {
   "cell_type": "code",
   "metadata": {
    "id": "J0ISsAUABclD",
    "outputId": "0f33ffe2-7ecf-4030-caf7-75af7bb7226f",
    "ExecuteTime": {
     "end_time": "2025-02-15T01:19:00.749803Z",
     "start_time": "2025-02-15T01:19:00.739830Z"
    }
   },
   "source": [
    "row = 0\n",
    "col = 1\n",
    "mat[row,col]"
   ],
   "outputs": [
    {
     "data": {
      "text/plain": [
       "1"
      ]
     },
     "execution_count": 26,
     "metadata": {},
     "output_type": "execute_result"
    }
   ],
   "execution_count": 26
  },
  {
   "cell_type": "code",
   "metadata": {
    "id": "pQZDcYx4BpSY",
    "outputId": "e9f359bb-f33c-4bef-b2d4-1e8403f99a84",
    "ExecuteTime": {
     "end_time": "2025-02-15T01:19:01.127792Z",
     "start_time": "2025-02-15T01:19:01.115825Z"
    }
   },
   "source": [
    "# With Slices\n",
    "mat[:,0]"
   ],
   "outputs": [
    {
     "data": {
      "text/plain": [
       "array([ 0, 10, 20, 30, 40, 50, 60, 70, 80, 90])"
      ]
     },
     "execution_count": 27,
     "metadata": {},
     "output_type": "execute_result"
    }
   ],
   "execution_count": 27
  },
  {
   "cell_type": "code",
   "metadata": {
    "id": "WlnynMI3Bw5N",
    "outputId": "1a17f2f7-76f6-43f1-805b-83d3634bc71d",
    "ExecuteTime": {
     "end_time": "2025-02-15T01:19:01.333244Z",
     "start_time": "2025-02-15T01:19:01.311303Z"
    }
   },
   "source": [
    "mat[0,:]"
   ],
   "outputs": [
    {
     "data": {
      "text/plain": [
       "array([0, 1, 2, 3, 4, 5, 6, 7, 8, 9])"
      ]
     },
     "execution_count": 28,
     "metadata": {},
     "output_type": "execute_result"
    }
   ],
   "execution_count": 28
  },
  {
   "cell_type": "code",
   "metadata": {
    "id": "xb5UU_0yB0yH",
    "outputId": "c820e150-5086-4c11-ced7-36f28a044854",
    "ExecuteTime": {
     "end_time": "2025-02-15T01:19:01.540687Z",
     "start_time": "2025-02-15T01:19:01.519744Z"
    }
   },
   "source": [
    "mat[0:3,0:3]"
   ],
   "outputs": [
    {
     "data": {
      "text/plain": [
       "array([[ 0,  1,  2],\n",
       "       [10, 11, 12],\n",
       "       [20, 21, 22]])"
      ]
     },
     "execution_count": 29,
     "metadata": {},
     "output_type": "execute_result"
    }
   ],
   "execution_count": 29
  },
  {
   "cell_type": "code",
   "metadata": {
    "id": "dM30JTHxvUQl",
    "outputId": "e162b60d-46b4-4d40-c164-a6c6fb1e4cbf",
    "ExecuteTime": {
     "end_time": "2025-02-15T01:19:01.746138Z",
     "start_time": "2025-02-15T01:19:01.728187Z"
    }
   },
   "source": [
    "mat[0:3,-3:-1]"
   ],
   "outputs": [
    {
     "data": {
      "text/plain": [
       "array([[ 7,  8],\n",
       "       [17, 18],\n",
       "       [27, 28]])"
      ]
     },
     "execution_count": 30,
     "metadata": {},
     "output_type": "execute_result"
    }
   ],
   "execution_count": 30
  },
  {
   "cell_type": "markdown",
   "metadata": {
    "id": "lf8wHt7avnd8"
   },
   "source": [
    "# **Pandas**"
   ]
  },
  {
   "cell_type": "markdown",
   "metadata": {
    "id": "5NbNf2FSGl_a"
   },
   "source": [
    "![pandas_data.PNG](data:image/png;base64,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)"
   ]
  },
  {
   "cell_type": "markdown",
   "metadata": {
    "id": "lLTHfEnEDRw1"
   },
   "source": [
    "# Pandas library\n",
    "Library for computation with tabular data\n"
   ]
  },
  {
   "cell_type": "code",
   "metadata": {
    "id": "ob6RHuT19_Uq",
    "ExecuteTime": {
     "end_time": "2025-02-15T01:19:02.375455Z",
     "start_time": "2025-02-15T01:19:02.363488Z"
    }
   },
   "source": [
    "import pandas as pd"
   ],
   "outputs": [],
   "execution_count": 31
  },
  {
   "cell_type": "code",
   "metadata": {
    "colab": {
     "base_uri": "https://localhost:8080/"
    },
    "id": "JRlODEPUHMM6",
    "outputId": "6f40d445-b6ea-42d8-dedf-d7ca6d144ecd",
    "ExecuteTime": {
     "end_time": "2025-02-15T01:19:02.673659Z",
     "start_time": "2025-02-15T01:19:02.646732Z"
    }
   },
   "source": [
    "step_data = [3620, 7891, 9761, 3907, 4338, 5373]\n",
    "print(step_data)\n",
    "step_counts = pd.Series(step_data, name='steps')\n",
    "print(step_counts)"
   ],
   "outputs": [
    {
     "name": "stdout",
     "output_type": "stream",
     "text": [
      "[3620, 7891, 9761, 3907, 4338, 5373]\n",
      "0    3620\n",
      "1    7891\n",
      "2    9761\n",
      "3    3907\n",
      "4    4338\n",
      "5    5373\n",
      "Name: steps, dtype: int64\n"
     ]
    }
   ],
   "execution_count": 32
  },
  {
   "cell_type": "code",
   "metadata": {
    "colab": {
     "base_uri": "https://localhost:8080/"
    },
    "id": "G652_Fk-HYWT",
    "outputId": "5ad052da-eeea-470b-d023-c586a247ab43",
    "ExecuteTime": {
     "end_time": "2025-02-15T01:19:02.897060Z",
     "start_time": "2025-02-15T01:19:02.885096Z"
    }
   },
   "source": [
    "step_counts.index = pd.date_range('20240329',periods=6)\n",
    "print(step_counts)"
   ],
   "outputs": [
    {
     "name": "stdout",
     "output_type": "stream",
     "text": [
      "2024-03-29    3620\n",
      "2024-03-30    7891\n",
      "2024-03-31    9761\n",
      "2024-04-01    3907\n",
      "2024-04-02    4338\n",
      "2024-04-03    5373\n",
      "Freq: D, Name: steps, dtype: int64\n"
     ]
    }
   ],
   "execution_count": 33
  },
  {
   "cell_type": "code",
   "metadata": {
    "colab": {
     "base_uri": "https://localhost:8080/"
    },
    "id": "GUA0qo9VH5Yc",
    "outputId": "2456afbc-efd9-4439-eb5c-692e7f1e6371",
    "ExecuteTime": {
     "end_time": "2025-02-15T01:19:03.102512Z",
     "start_time": "2025-02-15T01:19:03.086556Z"
    }
   },
   "source": [
    "# Just like a dictionary\n",
    "print(step_counts['2024-04-01'])"
   ],
   "outputs": [
    {
     "name": "stdout",
     "output_type": "stream",
     "text": [
      "3907\n"
     ]
    }
   ],
   "execution_count": 34
  },
  {
   "cell_type": "code",
   "metadata": {
    "colab": {
     "base_uri": "https://localhost:8080/"
    },
    "id": "rQPO8LM9IUnW",
    "outputId": "947ca34b-9b25-460b-ec02-b7ab6cdc237b",
    "scrolled": true,
    "ExecuteTime": {
     "end_time": "2025-02-15T01:19:03.275054Z",
     "start_time": "2025-02-15T01:19:03.261087Z"
    }
   },
   "source": [
    "# Or by index position--like an array\n",
    "print(step_counts[3])"
   ],
   "outputs": [
    {
     "name": "stdout",
     "output_type": "stream",
     "text": [
      "3907\n"
     ]
    }
   ],
   "execution_count": 35
  },
  {
   "cell_type": "code",
   "metadata": {
    "colab": {
     "base_uri": "https://localhost:8080/"
    },
    "id": "yc-cTO_bIdWg",
    "outputId": "be66008f-1e8d-4548-cdd3-25b7aceab15b",
    "ExecuteTime": {
     "end_time": "2025-02-15T01:19:03.464543Z",
     "start_time": "2025-02-15T01:19:03.444598Z"
    }
   },
   "source": [
    "# View the data type\n",
    "print(step_counts.dtypes)"
   ],
   "outputs": [
    {
     "name": "stdout",
     "output_type": "stream",
     "text": [
      "int64\n"
     ]
    }
   ],
   "execution_count": 36
  },
  {
   "cell_type": "code",
   "metadata": {
    "colab": {
     "base_uri": "https://localhost:8080/"
    },
    "id": "bXP1vvKxC-VJ",
    "outputId": "2a11a1d5-d9ca-4ef5-fbe5-4d52e47da45b",
    "scrolled": true,
    "ExecuteTime": {
     "end_time": "2025-02-15T01:19:03.607164Z",
     "start_time": "2025-02-15T01:19:03.593199Z"
    }
   },
   "source": [
    "cycling_data = [10.7, 0, None, 2.4, 15.3,10.9, 0, None]\n",
    "# Create a tuple of data\n",
    "joined_data = list(zip(step_data, cycling_data))\n",
    "print(joined_data)\n",
    "# The dataframe\n",
    "activity_df = pd.DataFrame(joined_data)\n",
    "print(activity_df)"
   ],
   "outputs": [
    {
     "name": "stdout",
     "output_type": "stream",
     "text": [
      "[(3620, 10.7), (7891, 0), (9761, None), (3907, 2.4), (4338, 15.3), (5373, 10.9)]\n",
      "      0     1\n",
      "0  3620  10.7\n",
      "1  7891   0.0\n",
      "2  9761   NaN\n",
      "3  3907   2.4\n",
      "4  4338  15.3\n",
      "5  5373  10.9\n"
     ]
    }
   ],
   "execution_count": 37
  },
  {
   "cell_type": "code",
   "metadata": {
    "colab": {
     "base_uri": "https://localhost:8080/"
    },
    "id": "r4b_6GBjELJh",
    "outputId": "3aa3075d-b6f8-496a-cd41-7c5ff0d5989e",
    "ExecuteTime": {
     "end_time": "2025-02-15T01:19:03.763745Z",
     "start_time": "2025-02-15T01:19:03.755765Z"
    }
   },
   "source": [
    "activity_df = pd.DataFrame(joined_data,\n",
    "                            index=pd.date_range('20240329',\n",
    "                            periods=6),\n",
    "                            columns=['Walking','Cycling'])\n",
    "print(activity_df)"
   ],
   "outputs": [
    {
     "name": "stdout",
     "output_type": "stream",
     "text": [
      "            Walking  Cycling\n",
      "2024-03-29     3620     10.7\n",
      "2024-03-30     7891      0.0\n",
      "2024-03-31     9761      NaN\n",
      "2024-04-01     3907      2.4\n",
      "2024-04-02     4338     15.3\n",
      "2024-04-03     5373     10.9\n"
     ]
    }
   ],
   "execution_count": 38
  },
  {
   "cell_type": "code",
   "metadata": {
    "colab": {
     "base_uri": "https://localhost:8080/"
    },
    "id": "ETKSnFA1Elf9",
    "outputId": "72a1c64c-c955-497f-dc93-e10542fc41f4",
    "ExecuteTime": {
     "end_time": "2025-02-15T01:19:03.903371Z",
     "start_time": "2025-02-15T01:19:03.885419Z"
    }
   },
   "source": [
    "print(activity_df['Walking'])"
   ],
   "outputs": [
    {
     "name": "stdout",
     "output_type": "stream",
     "text": [
      "2024-03-29    3620\n",
      "2024-03-30    7891\n",
      "2024-03-31    9761\n",
      "2024-04-01    3907\n",
      "2024-04-02    4338\n",
      "2024-04-03    5373\n",
      "Freq: D, Name: Walking, dtype: int64\n"
     ]
    }
   ],
   "execution_count": 39
  },
  {
   "cell_type": "code",
   "metadata": {
    "colab": {
     "base_uri": "https://localhost:8080/"
    },
    "id": "nuNWqVrpEr9R",
    "outputId": "012184ed-55ef-4313-a523-6c94d7baef2a",
    "scrolled": true,
    "ExecuteTime": {
     "end_time": "2025-02-15T01:19:04.092864Z",
     "start_time": "2025-02-15T01:19:04.083889Z"
    }
   },
   "source": [
    "print(activity_df.loc['2024-04-01'])"
   ],
   "outputs": [
    {
     "name": "stdout",
     "output_type": "stream",
     "text": [
      "Walking    3907.0\n",
      "Cycling       2.4\n",
      "Name: 2024-04-01 00:00:00, dtype: float64\n"
     ]
    }
   ],
   "execution_count": 40
  },
  {
   "cell_type": "code",
   "metadata": {
    "colab": {
     "base_uri": "https://localhost:8080/"
    },
    "id": "-21kGM4zfVxk",
    "outputId": "e2b1447b-c03d-47cf-c39f-2cbb535f44f1",
    "ExecuteTime": {
     "end_time": "2025-02-15T01:19:04.187612Z",
     "start_time": "2025-02-15T01:19:04.174646Z"
    }
   },
   "source": [
    "print(activity_df.loc['2024-04-01':'2024-04-03'])"
   ],
   "outputs": [
    {
     "name": "stdout",
     "output_type": "stream",
     "text": [
      "            Walking  Cycling\n",
      "2024-04-01     3907      2.4\n",
      "2024-04-02     4338     15.3\n",
      "2024-04-03     5373     10.9\n"
     ]
    }
   ],
   "execution_count": 41
  },
  {
   "cell_type": "code",
   "metadata": {
    "colab": {
     "base_uri": "https://localhost:8080/"
    },
    "id": "6il6OH3DfjOi",
    "outputId": "53d2c896-f819-4077-999b-69992177e931",
    "ExecuteTime": {
     "end_time": "2025-02-15T01:19:04.344192Z",
     "start_time": "2025-02-15T01:19:04.331227Z"
    }
   },
   "source": [
    "print(activity_df.loc['2024-04-01':'2024-04-03',['Walking']])"
   ],
   "outputs": [
    {
     "name": "stdout",
     "output_type": "stream",
     "text": [
      "            Walking\n",
      "2024-04-01     3907\n",
      "2024-04-02     4338\n",
      "2024-04-03     5373\n"
     ]
    }
   ],
   "execution_count": 42
  },
  {
   "cell_type": "code",
   "metadata": {
    "colab": {
     "base_uri": "https://localhost:8080/"
    },
    "id": "VzDABzSyEuzK",
    "outputId": "a7e6b842-a8c4-4748-db7d-1b0279062df3",
    "ExecuteTime": {
     "end_time": "2025-02-15T01:19:04.549643Z",
     "start_time": "2025-02-15T01:19:04.542661Z"
    }
   },
   "source": [
    "print(activity_df.iloc[0,:])\n",
    "print(activity_df.iloc[:2,0])"
   ],
   "outputs": [
    {
     "name": "stdout",
     "output_type": "stream",
     "text": [
      "Walking    3620.0\n",
      "Cycling      10.7\n",
      "Name: 2024-03-29 00:00:00, dtype: float64\n",
      "2024-03-29    3620\n",
      "2024-03-30    7891\n",
      "Freq: D, Name: Walking, dtype: int64\n"
     ]
    }
   ],
   "execution_count": 43
  },
  {
   "cell_type": "code",
   "metadata": {
    "id": "AJ-vDFJ2ny8k",
    "ExecuteTime": {
     "end_time": "2025-02-15T01:20:18.238798Z",
     "start_time": "2025-02-15T01:20:18.221842Z"
    }
   },
   "source": "data = pd.read_csv('.\\Iris_Data.csv')",
   "outputs": [],
   "execution_count": 46
  },
  {
   "cell_type": "code",
   "metadata": {
    "id": "oE3YJ2NsoY7L",
    "outputId": "66710286-ae12-4533-c6f8-cb8ae10e2999",
    "ExecuteTime": {
     "end_time": "2025-02-15T01:20:18.773849Z",
     "start_time": "2025-02-15T01:20:18.758891Z"
    }
   },
   "source": [
    "data.head()"
   ],
   "outputs": [
    {
     "data": {
      "text/plain": [
       "   sepal_length  sepal_width  petal_length  petal_width      species\n",
       "0           5.1          3.5           1.4          0.2  Iris-setosa\n",
       "1           4.9          3.0           1.4          0.2  Iris-setosa\n",
       "2           4.7          3.2           1.3          0.2  Iris-setosa\n",
       "3           4.6          3.1           1.5          0.2  Iris-setosa\n",
       "4           5.0          3.6           1.4          0.2  Iris-setosa"
      ],
      "text/html": [
       "<div>\n",
       "<style scoped>\n",
       "    .dataframe tbody tr th:only-of-type {\n",
       "        vertical-align: middle;\n",
       "    }\n",
       "\n",
       "    .dataframe tbody tr th {\n",
       "        vertical-align: top;\n",
       "    }\n",
       "\n",
       "    .dataframe thead th {\n",
       "        text-align: right;\n",
       "    }\n",
       "</style>\n",
       "<table border=\"1\" class=\"dataframe\">\n",
       "  <thead>\n",
       "    <tr style=\"text-align: right;\">\n",
       "      <th></th>\n",
       "      <th>sepal_length</th>\n",
       "      <th>sepal_width</th>\n",
       "      <th>petal_length</th>\n",
       "      <th>petal_width</th>\n",
       "      <th>species</th>\n",
       "    </tr>\n",
       "  </thead>\n",
       "  <tbody>\n",
       "    <tr>\n",
       "      <th>0</th>\n",
       "      <td>5.1</td>\n",
       "      <td>3.5</td>\n",
       "      <td>1.4</td>\n",
       "      <td>0.2</td>\n",
       "      <td>Iris-setosa</td>\n",
       "    </tr>\n",
       "    <tr>\n",
       "      <th>1</th>\n",
       "      <td>4.9</td>\n",
       "      <td>3.0</td>\n",
       "      <td>1.4</td>\n",
       "      <td>0.2</td>\n",
       "      <td>Iris-setosa</td>\n",
       "    </tr>\n",
       "    <tr>\n",
       "      <th>2</th>\n",
       "      <td>4.7</td>\n",
       "      <td>3.2</td>\n",
       "      <td>1.3</td>\n",
       "      <td>0.2</td>\n",
       "      <td>Iris-setosa</td>\n",
       "    </tr>\n",
       "    <tr>\n",
       "      <th>3</th>\n",
       "      <td>4.6</td>\n",
       "      <td>3.1</td>\n",
       "      <td>1.5</td>\n",
       "      <td>0.2</td>\n",
       "      <td>Iris-setosa</td>\n",
       "    </tr>\n",
       "    <tr>\n",
       "      <th>4</th>\n",
       "      <td>5.0</td>\n",
       "      <td>3.6</td>\n",
       "      <td>1.4</td>\n",
       "      <td>0.2</td>\n",
       "      <td>Iris-setosa</td>\n",
       "    </tr>\n",
       "  </tbody>\n",
       "</table>\n",
       "</div>"
      ]
     },
     "execution_count": 47,
     "metadata": {},
     "output_type": "execute_result"
    }
   ],
   "execution_count": 47
  },
  {
   "cell_type": "code",
   "metadata": {
    "id": "g_xJdw6FRQfD",
    "outputId": "0c2dfaea-8636-4715-a9fb-79cb359339d5",
    "ExecuteTime": {
     "end_time": "2025-02-15T01:20:19.338516Z",
     "start_time": "2025-02-15T01:20:19.324556Z"
    }
   },
   "source": [
    "print(data.iloc[:5])"
   ],
   "outputs": [
    {
     "name": "stdout",
     "output_type": "stream",
     "text": [
      "   sepal_length  sepal_width  petal_length  petal_width      species\n",
      "0           5.1          3.5           1.4          0.2  Iris-setosa\n",
      "1           4.9          3.0           1.4          0.2  Iris-setosa\n",
      "2           4.7          3.2           1.3          0.2  Iris-setosa\n",
      "3           4.6          3.1           1.5          0.2  Iris-setosa\n",
      "4           5.0          3.6           1.4          0.2  Iris-setosa\n"
     ]
    }
   ],
   "execution_count": 48
  },
  {
   "cell_type": "code",
   "metadata": {
    "id": "cKvlJg7B3Vp8",
    "ExecuteTime": {
     "end_time": "2025-02-15T01:20:19.778083Z",
     "start_time": "2025-02-15T01:20:19.770104Z"
    }
   },
   "source": [
    "#access dataset commands or from file mount drive\n",
    "\n",
    "#from google.colab import drive\n",
    "#drive.mount('/content/drive')"
   ],
   "outputs": [],
   "execution_count": 49
  },
  {
   "cell_type": "code",
   "metadata": {
    "id": "W4FfYSRXxUCs",
    "ExecuteTime": {
     "end_time": "2025-02-15T01:20:19.946652Z",
     "start_time": "2025-02-15T01:20:19.926706Z"
    }
   },
   "source": [
    "#data = pd.read_csv('/content/drive/MyDrive/Iris_Data.csv')"
   ],
   "outputs": [],
   "execution_count": 50
  },
  {
   "cell_type": "code",
   "metadata": {
    "id": "Ep8CFG-Zxdh-",
    "ExecuteTime": {
     "end_time": "2025-02-15T01:20:20.165962Z",
     "start_time": "2025-02-15T01:20:20.143397Z"
    }
   },
   "source": [
    "data.head()"
   ],
   "outputs": [
    {
     "data": {
      "text/plain": [
       "   sepal_length  sepal_width  petal_length  petal_width      species\n",
       "0           5.1          3.5           1.4          0.2  Iris-setosa\n",
       "1           4.9          3.0           1.4          0.2  Iris-setosa\n",
       "2           4.7          3.2           1.3          0.2  Iris-setosa\n",
       "3           4.6          3.1           1.5          0.2  Iris-setosa\n",
       "4           5.0          3.6           1.4          0.2  Iris-setosa"
      ],
      "text/html": [
       "<div>\n",
       "<style scoped>\n",
       "    .dataframe tbody tr th:only-of-type {\n",
       "        vertical-align: middle;\n",
       "    }\n",
       "\n",
       "    .dataframe tbody tr th {\n",
       "        vertical-align: top;\n",
       "    }\n",
       "\n",
       "    .dataframe thead th {\n",
       "        text-align: right;\n",
       "    }\n",
       "</style>\n",
       "<table border=\"1\" class=\"dataframe\">\n",
       "  <thead>\n",
       "    <tr style=\"text-align: right;\">\n",
       "      <th></th>\n",
       "      <th>sepal_length</th>\n",
       "      <th>sepal_width</th>\n",
       "      <th>petal_length</th>\n",
       "      <th>petal_width</th>\n",
       "      <th>species</th>\n",
       "    </tr>\n",
       "  </thead>\n",
       "  <tbody>\n",
       "    <tr>\n",
       "      <th>0</th>\n",
       "      <td>5.1</td>\n",
       "      <td>3.5</td>\n",
       "      <td>1.4</td>\n",
       "      <td>0.2</td>\n",
       "      <td>Iris-setosa</td>\n",
       "    </tr>\n",
       "    <tr>\n",
       "      <th>1</th>\n",
       "      <td>4.9</td>\n",
       "      <td>3.0</td>\n",
       "      <td>1.4</td>\n",
       "      <td>0.2</td>\n",
       "      <td>Iris-setosa</td>\n",
       "    </tr>\n",
       "    <tr>\n",
       "      <th>2</th>\n",
       "      <td>4.7</td>\n",
       "      <td>3.2</td>\n",
       "      <td>1.3</td>\n",
       "      <td>0.2</td>\n",
       "      <td>Iris-setosa</td>\n",
       "    </tr>\n",
       "    <tr>\n",
       "      <th>3</th>\n",
       "      <td>4.6</td>\n",
       "      <td>3.1</td>\n",
       "      <td>1.5</td>\n",
       "      <td>0.2</td>\n",
       "      <td>Iris-setosa</td>\n",
       "    </tr>\n",
       "    <tr>\n",
       "      <th>4</th>\n",
       "      <td>5.0</td>\n",
       "      <td>3.6</td>\n",
       "      <td>1.4</td>\n",
       "      <td>0.2</td>\n",
       "      <td>Iris-setosa</td>\n",
       "    </tr>\n",
       "  </tbody>\n",
       "</table>\n",
       "</div>"
      ]
     },
     "execution_count": 51,
     "metadata": {},
     "output_type": "execute_result"
    }
   ],
   "execution_count": 51
  },
  {
   "cell_type": "code",
   "metadata": {
    "id": "Q5ly8AgByTae",
    "outputId": "145b2853-1259-422d-8f71-8814b18b13d4",
    "ExecuteTime": {
     "end_time": "2025-02-15T01:20:20.537968Z",
     "start_time": "2025-02-15T01:20:20.526997Z"
    }
   },
   "source": [
    "#num of rows\n",
    "data.shape[1]"
   ],
   "outputs": [
    {
     "data": {
      "text/plain": [
       "5"
      ]
     },
     "execution_count": 52,
     "metadata": {},
     "output_type": "execute_result"
    }
   ],
   "execution_count": 52
  },
  {
   "cell_type": "code",
   "metadata": {
    "id": "r-tOajoe14Pc",
    "outputId": "f7a46076-d0c2-4440-ad02-c51b1e1c819e",
    "ExecuteTime": {
     "end_time": "2025-02-15T01:20:21.055876Z",
     "start_time": "2025-02-15T01:20:21.042908Z"
    }
   },
   "source": [
    "print(data['sepal_width'])\n",
    "#print(data.sepal_width)"
   ],
   "outputs": [
    {
     "name": "stdout",
     "output_type": "stream",
     "text": [
      "0      3.5\n",
      "1      3.0\n",
      "2      3.2\n",
      "3      3.1\n",
      "4      3.6\n",
      "      ... \n",
      "145    3.0\n",
      "146    2.5\n",
      "147    3.0\n",
      "148    3.4\n",
      "149    3.0\n",
      "Name: sepal_width, Length: 150, dtype: float64\n"
     ]
    }
   ],
   "execution_count": 53
  },
  {
   "cell_type": "markdown",
   "metadata": {
    "id": "nYGlGFgt2Pqr"
   },
   "source": [
    "Loc and **iloc** are two functions in Pandas that are used to slice a data set in a Pandas DataFrame. The function .**loc** is typically used for label indexing and can access multiple columns, while .**iloc** is used for integer indexing.  \n",
    "The loc() function is label based data selecting method which means that we have to pass the name of the row or column which we want to select. This method includes the last element of the range passed in it, unlike iloc(). loc() can accept the boolean data unlike iloc(). Many operations can be performed using the loc() method [https://www.geeksforgeeks.org/difference-between-loc-and-iloc-in-pandas-dataframe/](https://)"
   ]
  },
  {
   "cell_type": "code",
   "metadata": {
    "id": "RAWZTae5zfN5",
    "outputId": "64a58dab-29bd-4247-9656-b6438246ab8d",
    "ExecuteTime": {
     "end_time": "2025-02-15T01:20:21.258376Z",
     "start_time": "2025-02-15T01:20:21.234458Z"
    }
   },
   "source": [
    "print(data.loc[2],'\\n')\n",
    "print(data.loc[2,['sepal_length']])"
   ],
   "outputs": [
    {
     "name": "stdout",
     "output_type": "stream",
     "text": [
      "sepal_length            4.7\n",
      "sepal_width             3.2\n",
      "petal_length            1.3\n",
      "petal_width             0.2\n",
      "species         Iris-setosa\n",
      "Name: 2, dtype: object \n",
      "\n",
      "sepal_length    4.7\n",
      "Name: 2, dtype: object\n"
     ]
    }
   ],
   "execution_count": 54
  },
  {
   "cell_type": "code",
   "metadata": {
    "id": "B7fRxhUP2ld8",
    "outputId": "882f98e0-3c4f-4fbd-fbd6-aea2309f2940",
    "ExecuteTime": {
     "end_time": "2025-02-15T01:20:21.665293Z",
     "start_time": "2025-02-15T01:20:21.651326Z"
    }
   },
   "source": [
    "print(data.iloc[:5,:])"
   ],
   "outputs": [
    {
     "name": "stdout",
     "output_type": "stream",
     "text": [
      "   sepal_length  sepal_width  petal_length  petal_width      species\n",
      "0           5.1          3.5           1.4          0.2  Iris-setosa\n",
      "1           4.9          3.0           1.4          0.2  Iris-setosa\n",
      "2           4.7          3.2           1.3          0.2  Iris-setosa\n",
      "3           4.6          3.1           1.5          0.2  Iris-setosa\n",
      "4           5.0          3.6           1.4          0.2  Iris-setosa\n"
     ]
    }
   ],
   "execution_count": 55
  },
  {
   "cell_type": "code",
   "metadata": {
    "id": "7ygkA_VK1zff",
    "outputId": "f2d32d70-1ec1-4fbc-a191-c001efdc60dd",
    "ExecuteTime": {
     "end_time": "2025-02-15T01:20:21.978453Z",
     "start_time": "2025-02-15T01:20:21.961495Z"
    }
   },
   "source": [
    "print(data.iloc[0,:])\n",
    "print(data.iloc[:,0])"
   ],
   "outputs": [
    {
     "name": "stdout",
     "output_type": "stream",
     "text": [
      "sepal_length            5.1\n",
      "sepal_width             3.5\n",
      "petal_length            1.4\n",
      "petal_width             0.2\n",
      "species         Iris-setosa\n",
      "Name: 0, dtype: object\n",
      "0      5.1\n",
      "1      4.9\n",
      "2      4.7\n",
      "3      4.6\n",
      "4      5.0\n",
      "      ... \n",
      "145    6.7\n",
      "146    6.3\n",
      "147    6.5\n",
      "148    6.2\n",
      "149    5.9\n",
      "Name: sepal_length, Length: 150, dtype: float64\n"
     ]
    }
   ],
   "execution_count": 56
  },
  {
   "cell_type": "code",
   "metadata": {
    "id": "3AkfKgrQ4too",
    "outputId": "57f581de-c50c-48fa-9adf-833ed12451d6",
    "ExecuteTime": {
     "end_time": "2025-02-15T01:20:22.178680Z",
     "start_time": "2025-02-15T01:20:22.164717Z"
    }
   },
   "source": [
    "data['species'] = data.species.str.replace('Iris-', '')\n",
    "print(data.loc[(data.sepal_width>3.5)])"
   ],
   "outputs": [
    {
     "name": "stdout",
     "output_type": "stream",
     "text": [
      "     sepal_length  sepal_width  petal_length  petal_width    species\n",
      "4             5.0          3.6           1.4          0.2     setosa\n",
      "5             5.4          3.9           1.7          0.4     setosa\n",
      "10            5.4          3.7           1.5          0.2     setosa\n",
      "14            5.8          4.0           1.2          0.2     setosa\n",
      "15            5.7          4.4           1.5          0.4     setosa\n",
      "16            5.4          3.9           1.3          0.4     setosa\n",
      "18            5.7          3.8           1.7          0.3     setosa\n",
      "19            5.1          3.8           1.5          0.3     setosa\n",
      "21            5.1          3.7           1.5          0.4     setosa\n",
      "22            4.6          3.6           1.0          0.2     setosa\n",
      "32            5.2          4.1           1.5          0.1     setosa\n",
      "33            5.5          4.2           1.4          0.2     setosa\n",
      "44            5.1          3.8           1.9          0.4     setosa\n",
      "46            5.1          3.8           1.6          0.2     setosa\n",
      "48            5.3          3.7           1.5          0.2     setosa\n",
      "109           7.2          3.6           6.1          2.5  virginica\n",
      "117           7.7          3.8           6.7          2.2  virginica\n",
      "131           7.9          3.8           6.4          2.0  virginica\n"
     ]
    }
   ],
   "execution_count": 57
  },
  {
   "cell_type": "code",
   "metadata": {
    "id": "-fQIuwd9573w",
    "outputId": "77fcd137-1189-4dfb-d526-5642a5b02726",
    "ExecuteTime": {
     "end_time": "2025-02-15T01:20:22.537149Z",
     "start_time": "2025-02-15T01:20:22.522187Z"
    }
   },
   "source": [
    "# Create a new column that is a product\n",
    "# of both measurements\n",
    "data['sepal_area'] = data.sepal_length *data.sepal_width\n",
    "# Print a few rows and columns\n",
    "print(data.iloc[:5, -3:])"
   ],
   "outputs": [
    {
     "name": "stdout",
     "output_type": "stream",
     "text": [
      "   petal_width species  sepal_area\n",
      "0          0.2  setosa       17.85\n",
      "1          0.2  setosa       14.70\n",
      "2          0.2  setosa       15.04\n",
      "3          0.2  setosa       14.26\n",
      "4          0.2  setosa       18.00\n"
     ]
    }
   ],
   "execution_count": 58
  },
  {
   "cell_type": "code",
   "metadata": {
    "id": "UQBaBk6J6115",
    "outputId": "04c3b320-9bf9-422e-9e47-a8433077438a",
    "ExecuteTime": {
     "end_time": "2025-02-15T01:20:22.725547Z",
     "start_time": "2025-02-15T01:20:22.709562Z"
    }
   },
   "source": [
    "# Use the size method with a\n",
    "# DataFrame to get count For a Series, use the .value_counts method\n",
    "group_sizes = (data.groupby('species').size())\n",
    "print(group_sizes)"
   ],
   "outputs": [
    {
     "name": "stdout",
     "output_type": "stream",
     "text": [
      "species\n",
      "setosa        50\n",
      "versicolor    50\n",
      "virginica     50\n",
      "dtype: int64\n"
     ]
    }
   ],
   "execution_count": 59
  },
  {
   "cell_type": "markdown",
   "metadata": {
    "id": "NvCU0TDT3HLB"
   },
   "source": [
    "\n",
    "In Machine Learning (and in mathematics) there are often three values that interests us:\n",
    "\n",
    "1.   Mean - The average value\n",
    "2.   Median - The mid point value\n",
    "1.   Mode - The most common value\n",
    "\n",
    "https://www.w3schools.com/python/python_ml_mean_median_mode.asp\n",
    "\n",
    "\n",
    "\n"
   ]
  },
  {
   "cell_type": "code",
   "metadata": {
    "id": "pcRQTOL542Zo",
    "outputId": "fe6df6b9-109b-4e1a-f67f-305ab42c9a99",
    "ExecuteTime": {
     "end_time": "2025-02-15T01:20:22.976806Z",
     "start_time": "2025-02-15T01:20:22.966902Z"
    }
   },
   "source": [
    "print(data.sepal_width.mean())\n"
   ],
   "outputs": [
    {
     "name": "stdout",
     "output_type": "stream",
     "text": [
      "3.0540000000000003\n"
     ]
    }
   ],
   "execution_count": 60
  },
  {
   "cell_type": "code",
   "metadata": {
    "id": "XmcPNlLM7dlR",
    "outputId": "72ec6abe-a928-4c58-a4c4-d82361acb8fb",
    "ExecuteTime": {
     "end_time": "2025-02-15T01:20:23.208194Z",
     "start_time": "2025-02-15T01:20:23.196228Z"
    }
   },
   "source": [
    "print(data.petal_length.median())"
   ],
   "outputs": [
    {
     "name": "stdout",
     "output_type": "stream",
     "text": [
      "4.35\n"
     ]
    }
   ],
   "execution_count": 61
  },
  {
   "cell_type": "code",
   "metadata": {
    "id": "dLoFTcu3Cm7E",
    "ExecuteTime": {
     "end_time": "2025-02-15T01:20:23.476593Z",
     "start_time": "2025-02-15T01:20:23.457644Z"
    }
   },
   "source": [
    "print(data.petal_length.mode())"
   ],
   "outputs": [
    {
     "name": "stdout",
     "output_type": "stream",
     "text": [
      "0    1.5\n",
      "Name: petal_length, dtype: float64\n"
     ]
    }
   ],
   "execution_count": 62
  },
  {
   "cell_type": "markdown",
   "metadata": {
    "id": "OYmG6mjmkB5Y"
   },
   "source": [
    "\n",
    "Standard deviation is a number that describes how spread out the values are.\n",
    "A low standard deviation means that most of the numbers are close to the mean (average) value.\n",
    "\n",
    "A high standard deviation means that the values are spread out over a wider range\n",
    "Standard Deviation is calculated as the square root of the variance\n",
    "\n",
    "A variance is the average of the squared differences from the mean. To figure out the variance, calculate the difference between each point within the data set and the mean. Once you figure that out, square and average the results.\n",
    "\n",
    "Standard error of the mean (SEM) measures how far the sample mean (average) of the data is likely to be from the true population mean. The SEM is always smaller than the SD.\n",
    "SEM is calculated simply by taking the standard deviation and dividing it by the square root of the sample size"
   ]
  },
  {
   "cell_type": "code",
   "metadata": {
    "id": "UE68sjPt7mjA",
    "outputId": "6a664944-355c-4642-9d5e-5bdc1a68db14",
    "ExecuteTime": {
     "end_time": "2025-02-15T01:20:23.693769Z",
     "start_time": "2025-02-15T01:20:23.678810Z"
    }
   },
   "source": [
    "\n",
    "print(data.petal_length.std())\n",
    "print(data.petal_length.var())\n",
    "print(data.petal_length.sem())"
   ],
   "outputs": [
    {
     "name": "stdout",
     "output_type": "stream",
     "text": [
      "1.7644204199522626\n",
      "3.113179418344519\n",
      "0.1440643240210085\n"
     ]
    }
   ],
   "execution_count": 63
  },
  {
   "cell_type": "markdown",
   "metadata": {
    "id": "LjNY4yu-SXDS"
   },
   "source": [
    "# **Matplotlib**"
   ]
  },
  {
   "cell_type": "code",
   "metadata": {
    "id": "91tWXiMWB49-",
    "ExecuteTime": {
     "end_time": "2025-02-15T01:21:08.705535Z",
     "start_time": "2025-02-15T01:21:04.938645Z"
    }
   },
   "source": [
    "import matplotlib.pyplot as plt"
   ],
   "outputs": [],
   "execution_count": 67
  },
  {
   "cell_type": "code",
   "metadata": {
    "id": "_658e462-YwD",
    "outputId": "b6e91381-8981-4dfa-e670-cd36df8ca97b",
    "ExecuteTime": {
     "end_time": "2025-02-15T01:21:09.978131Z",
     "start_time": "2025-02-15T01:21:09.573221Z"
    }
   },
   "source": [
    "ax = plt.axes()\n",
    "ax.hist(data.petal_length, bins=25);\n",
    "\n",
    "ax.set(xlabel='Petal Length (cm)',\n",
    "       ylabel='Frequency',\n",
    "       title='Distribution of Petal Lengths');"
   ],
   "outputs": [
    {
     "data": {
      "text/plain": [
       "<Figure size 640x480 with 1 Axes>"
      ],
      "image/png": "[encoded data removed]"
     },
     "metadata": {},
     "output_type": "display_data"
    }
   ],
   "execution_count": 68
  },
  {
   "cell_type": "code",
   "metadata": {
    "id": "smM_v9WhSYBC",
    "outputId": "dc6d0401-e9c9-440a-bb55-5e896ddc642d",
    "ExecuteTime": {
     "end_time": "2025-02-15T01:21:11.130052Z",
     "start_time": "2025-02-15T01:21:10.797941Z"
    }
   },
   "source": [
    "plt.plot(data.sepal_length,\n",
    "              data.sepal_width,\n",
    "               marker='o')\n",
    "#plt.xlim(3,9)\n",
    "#plt.ylim(1,20)\n",
    "plt.title(\"Distribution of Petal Lengths\")\n",
    "plt.xlabel(\"Petal Length (cm)\")\n",
    "plt.ylabel(\"sepal_width\")\n"
   ],
   "outputs": [
    {
     "data": {
      "text/plain": [
       "Text(0, 0.5, 'sepal_width')"
      ]
     },
     "execution_count": 69,
     "metadata": {},
     "output_type": "execute_result"
    },
    {
     "data": {
      "text/plain": [
       "<Figure size 640x480 with 1 Axes>"
      ],
      "image/png": "[encoded data removed]"
     },
     "metadata": {},
     "output_type": "display_data"
    }
   ],
   "execution_count": 69
  },
  {
   "cell_type": "code",
   "metadata": {
    "id": "Ek3gGg9MSpr8",
    "ExecuteTime": {
     "end_time": "2025-02-15T01:21:12.820532Z",
     "start_time": "2025-02-15T01:21:12.465485Z"
    }
   },
   "source": [
    "plt.hist(data.sepal_length, bins=25)\n",
    "plt.title(\"Histogram\")\n",
    "plt.xlabel(\"Petal Length (cm)\")\n",
    "plt.ylabel(\"Frequency\")"
   ],
   "outputs": [
    {
     "data": {
      "text/plain": [
       "Text(0, 0.5, 'Frequency')"
      ]
     },
     "execution_count": 70,
     "metadata": {},
     "output_type": "execute_result"
    },
    {
     "data": {
      "text/plain": [
       "<Figure size 640x480 with 1 Axes>"
      ],
      "image/png": "[encoded data removed]"
     },
     "metadata": {},
     "output_type": "display_data"
    }
   ],
   "execution_count": 70
  }
 ],
 "metadata": {
  "colab": {
   "provenance": []
  },
  "kernelspec": {
   "display_name": "Python 3 (ipykernel)",
   "language": "python",
   "name": "python3"
  },
  "language_info": {
   "codemirror_mode": {
    "name": "ipython",
    "version": 3
   },
   "file_extension": ".py",
   "mimetype": "text/x-python",
   "name": "python",
   "nbconvert_exporter": "python",
   "pygments_lexer": "ipython3",
   "version": "3.11.5"
  }
 },
 "nbformat": 4,
 "nbformat_minor": 0
}
